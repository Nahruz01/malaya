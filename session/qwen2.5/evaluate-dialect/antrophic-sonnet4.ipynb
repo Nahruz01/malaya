{
 "cells": [
  {
   "cell_type": "code",
   "execution_count": 1,
   "id": "f04fbd44",
   "metadata": {},
   "outputs": [],
   "source": [
    "import requests\n",
    "import anthropic\n",
    "import os\n",
    "import json\n",
    "import re\n",
    "from tqdm import tqdm\n",
    "from datasets import load_dataset\n",
    "\n",
    "api_key = ''"
   ]
  },
  {
   "cell_type": "code",
   "execution_count": 2,
   "id": "e5fd8f89",
   "metadata": {},
   "outputs": [],
   "source": [
    "dataset = load_dataset('huseinzol05/malaysian-dialect-qa', split = 'test')"
   ]
  },
  {
   "cell_type": "code",
   "execution_count": 9,
   "id": "2c1ccc3d",
   "metadata": {},
   "outputs": [],
   "source": [
    "dataset_lang = load_dataset('huseinzol05/malaysian-dialect-qa-lang', split = 'test')"
   ]
  },
  {
   "cell_type": "code",
   "execution_count": 3,
   "id": "07252999",
   "metadata": {},
   "outputs": [
    {
     "data": {
      "text/plain": [
       "140"
      ]
     },
     "execution_count": 3,
     "metadata": {},
     "output_type": "execute_result"
    }
   ],
   "source": [
    "questions = []\n",
    "for i in range(len(dataset)):\n",
    "    q = dataset[i]['question'] + '\\n\\nAfter that, put your final answer within $\\\\boxed{}$.'\n",
    "    questions.append((i, q))\n",
    "    \n",
    "len(questions)"
   ]
  },
  {
   "cell_type": "code",
   "execution_count": 4,
   "id": "8fa11b9c",
   "metadata": {},
   "outputs": [
    {
     "data": {
      "text/plain": [
       "(0,\n",
       " 'Lepas ujan jangan maen lari-lari, kan biyak.\\n\\nterjemah ke melayu baku\\n\\nAfter that, put your final answer within $\\\\boxed{}$.')"
      ]
     },
     "execution_count": 4,
     "metadata": {},
     "output_type": "execute_result"
    }
   ],
   "source": [
    "questions[0]"
   ]
  },
  {
   "cell_type": "code",
   "execution_count": 5,
   "id": "d04257f8",
   "metadata": {},
   "outputs": [],
   "source": [
    "folder = 'antrophic-sonnet4'\n",
    "# !rm -rf {folder}\n",
    "!mkdir {folder}"
   ]
  },
  {
   "cell_type": "code",
   "execution_count": 6,
   "id": "e39af693",
   "metadata": {},
   "outputs": [],
   "source": [
    "def generate_answer(row, repeat = 5, thinking = False):\n",
    "    no, q = row\n",
    "    if thinking:\n",
    "        thinking_mode = {\n",
    "            \"type\": \"enabled\",\n",
    "            \"budget_tokens\": 6000\n",
    "        }\n",
    "    else:\n",
    "        thinking_mode = {\n",
    "            \"type\": \"disabled\",\n",
    "        }\n",
    "    for k in range(repeat):\n",
    "        filename = os.path.join(folder, f'{no}-{k}.json')\n",
    "        if os.path.exists(filename):\n",
    "            continue\n",
    "            \n",
    "        client = anthropic.Anthropic(\n",
    "            api_key=api_key,\n",
    "        )\n",
    "        \n",
    "        for _ in range(5):\n",
    "\n",
    "            message = client.messages.create(\n",
    "                model=\"claude-sonnet-4-20250514\",\n",
    "                max_tokens=8192,\n",
    "                temperature=1,\n",
    "                messages=[\n",
    "                    {\n",
    "                        \"role\": \"user\",\n",
    "                        \"content\": [\n",
    "                            {\n",
    "                                \"type\": \"text\",\n",
    "                                \"text\": q\n",
    "                            }\n",
    "                        ]\n",
    "                    }\n",
    "                ],\n",
    "                thinking=thinking_mode\n",
    "            )\n",
    "            \n",
    "            if thinking:\n",
    "                text = message.content[1].text\n",
    "            else:\n",
    "                text = message.content[0].text\n",
    "            try:\n",
    "                if 'boxed{' in text:\n",
    "                    text = text.split('boxed{')\n",
    "                    text = text[-1].split('}')[0]\n",
    "                    if 'text{' in text:\n",
    "                        text = text.split('text{')[1]\n",
    "                with open(filename, 'w') as fopen:\n",
    "                    json.dump(text, fopen)\n",
    "                break\n",
    "            except Exception as e:\n",
    "                print(e)"
   ]
  },
  {
   "cell_type": "code",
   "execution_count": 7,
   "id": "0435c54a",
   "metadata": {},
   "outputs": [
    {
     "name": "stderr",
     "output_type": "stream",
     "text": [
      "100%|█████████████████████████████████████████| 140/140 [57:37<00:00, 24.69s/it]\n"
     ]
    }
   ],
   "source": [
    "for i in tqdm(range(len(dataset))):\n",
    "    generate_answer(questions[i], thinking = False)"
   ]
  },
  {
   "cell_type": "code",
   "execution_count": 8,
   "id": "66f9abff",
   "metadata": {},
   "outputs": [],
   "source": [
    "from sacrebleu.metrics import CHRF\n",
    "from glob import glob\n",
    "from collections import defaultdict\n",
    "import numpy as np"
   ]
  },
  {
   "cell_type": "code",
   "execution_count": 10,
   "id": "04e1637e",
   "metadata": {},
   "outputs": [
    {
     "name": "stderr",
     "output_type": "stream",
     "text": [
      "100%|███████████████████████████████████████| 140/140 [00:00<00:00, 1082.24it/s]\n"
     ]
    }
   ],
   "source": [
    "chrf = CHRF()\n",
    "pairs = defaultdict(list)\n",
    "\n",
    "for i in tqdm(range(len(dataset_lang))):\n",
    "    from_lang = dataset_lang[i]['from_lang']\n",
    "    to_lang = dataset_lang[i]['to_lang']\n",
    "    gt = dataset_lang[i]['answer']\n",
    "    pair = f'{from_lang}<>{to_lang}'\n",
    "    files = glob(f'antrophic-sonnet4/{i}-*.json')\n",
    "    scores = []\n",
    "    for f in files:\n",
    "        with open(f) as fopen:\n",
    "            d = json.load(fopen)\n",
    "        score = chrf.corpus_score([d], [[gt]]).score\n",
    "        scores.append(score)\n",
    "\n",
    "    max_score = max(scores)\n",
    "    pairs[pair].append(max_score)"
   ]
  },
  {
   "cell_type": "code",
   "execution_count": 11,
   "id": "f466a8a6",
   "metadata": {},
   "outputs": [
    {
     "name": "stdout",
     "output_type": "stream",
     "text": [
      "From: johor To: malay, score: 59.38895311922706\n",
      "From: kedah To: malay, score: 56.32455681331705\n",
      "From: pahang To: malay, score: 57.39841429562409\n",
      "From: negeri sembilan To: malay, score: 52.94997568141406\n",
      "From: kelantan To: malay, score: 46.75420510261508\n",
      "From: penang To: malay, score: 61.42857709223605\n",
      "From: melaka To: malay, score: 49.85267181314456\n",
      "From: malay To: johor, score: 47.10092903424785\n",
      "From: malay To: kedah, score: 45.18222338586762\n",
      "From: malay To: pahang, score: 45.98078644356921\n",
      "From: malay To: negeri sembilan, score: 45.7841832797677\n",
      "From: malay To: kelantan, score: 31.82957862155204\n",
      "From: malay To: penang, score: 30.00323484579035\n",
      "From: malay To: melaka, score: 51.77839586324736\n"
     ]
    }
   ],
   "source": [
    "for k, v in pairs.items():\n",
    "    l, r = k.split('<>')\n",
    "    print(f'From: {l} To: {r}, score:', np.mean(v))"
   ]
  },
  {
   "cell_type": "code",
   "execution_count": 13,
   "id": "aa5e6039",
   "metadata": {},
   "outputs": [
    {
     "data": {
      "text/plain": [
       "42.522761639148875"
      ]
     },
     "execution_count": 13,
     "metadata": {},
     "output_type": "execute_result"
    }
   ],
   "source": [
    "x = \"\"\"\n",
    "From: malay To: johor, score: 47.10092903424785\n",
    "From: malay To: kedah, score: 45.18222338586762\n",
    "From: malay To: pahang, score: 45.98078644356921\n",
    "From: malay To: negeri sembilan, score: 45.7841832797677\n",
    "From: malay To: kelantan, score: 31.82957862155204\n",
    "From: malay To: penang, score: 30.00323484579035\n",
    "From: malay To: melaka, score: 51.77839586324736\n",
    "\"\"\"\n",
    "\n",
    "scores = []\n",
    "for l in x.split('\\n'):\n",
    "    if 'score:' not in l:\n",
    "        continue\n",
    "    \n",
    "    scores.append(float(l.split('score: ')[1]))\n",
    "    \n",
    "np.mean(scores)"
   ]
  },
  {
   "cell_type": "code",
   "execution_count": null,
   "id": "ebd9f94a",
   "metadata": {},
   "outputs": [],
   "source": []
  }
 ],
 "metadata": {
  "kernelspec": {
   "display_name": "python3.10",
   "language": "python",
   "name": "python3.10"
  },
  "language_info": {
   "codemirror_mode": {
    "name": "ipython",
    "version": 3
   },
   "file_extension": ".py",
   "mimetype": "text/x-python",
   "name": "python",
   "nbconvert_exporter": "python",
   "pygments_lexer": "ipython3",
   "version": "3.10.17"
  }
 },
 "nbformat": 4,
 "nbformat_minor": 5
}
