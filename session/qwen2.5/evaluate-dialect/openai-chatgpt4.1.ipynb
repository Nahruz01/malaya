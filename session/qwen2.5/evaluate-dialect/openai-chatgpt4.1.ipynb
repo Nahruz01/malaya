{
 "cells": [
  {
   "cell_type": "code",
   "execution_count": 2,
   "id": "f04fbd44",
   "metadata": {},
   "outputs": [],
   "source": [
    "import requests\n",
    "from openai import OpenAI\n",
    "import os\n",
    "import json\n",
    "import re\n",
    "from tqdm import tqdm\n",
    "from datasets import load_dataset\n",
    "\n",
    "client = OpenAI(api_key = '')"
   ]
  },
  {
   "cell_type": "code",
   "execution_count": 3,
   "id": "e5fd8f89",
   "metadata": {},
   "outputs": [],
   "source": [
    "dataset = load_dataset('huseinzol05/malaysian-dialect-qa', split = 'test')"
   ]
  },
  {
   "cell_type": "code",
   "execution_count": null,
   "id": "0f5fda55",
   "metadata": {},
   "outputs": [],
   "source": [
    "dataset_lang = load_dataset('huseinzol05/malaysian-dialect-qa-lang', split = 'test')"
   ]
  },
  {
   "cell_type": "code",
   "execution_count": 4,
   "id": "07252999",
   "metadata": {},
   "outputs": [
    {
     "data": {
      "text/plain": [
       "140"
      ]
     },
     "execution_count": 4,
     "metadata": {},
     "output_type": "execute_result"
    }
   ],
   "source": [
    "questions = []\n",
    "for i in range(len(dataset)):\n",
    "    q = dataset[i]['question'] + '\\n\\nAfter that, put your final answer within $\\\\boxed{}$.'\n",
    "    questions.append((i, q))\n",
    "    \n",
    "len(questions)"
   ]
  },
  {
   "cell_type": "code",
   "execution_count": 5,
   "id": "8fa11b9c",
   "metadata": {},
   "outputs": [
    {
     "data": {
      "text/plain": [
       "(0,\n",
       " 'Lepas ujan jangan maen lari-lari, kan biyak.\\n\\nterjemah ke melayu baku\\n\\nAfter that, put your final answer within $\\\\boxed{}$.')"
      ]
     },
     "execution_count": 5,
     "metadata": {},
     "output_type": "execute_result"
    }
   ],
   "source": [
    "questions[0][1]"
   ]
  },
  {
   "cell_type": "code",
   "execution_count": 18,
   "id": "d04257f8",
   "metadata": {},
   "outputs": [
    {
     "name": "stdout",
     "output_type": "stream",
     "text": [
      "mkdir: cannot create directory ‘openai-chatgpt4.1’: File exists\r\n"
     ]
    }
   ],
   "source": [
    "folder = 'openai-chatgpt4.1'\n",
    "# !rm -rf {folder}\n",
    "!mkdir {folder}"
   ]
  },
  {
   "cell_type": "code",
   "execution_count": 22,
   "id": "e39af693",
   "metadata": {},
   "outputs": [],
   "source": [
    "def generate_answer(row, repeat = 5):\n",
    "    no, q = row\n",
    "    for k in range(repeat):\n",
    "        filename = os.path.join(folder, f'{no}-{k}.json')\n",
    "        if os.path.exists(filename):\n",
    "            continue\n",
    "        \n",
    "        for _ in range(5):\n",
    "\n",
    "            completion = client.chat.completions.create(\n",
    "                model=\"gpt-4.1\",\n",
    "                messages=[\n",
    "                    {\n",
    "                        \"role\": \"user\",\n",
    "                        \"content\": questions[i][1]\n",
    "                    }\n",
    "                ]\n",
    "            )\n",
    "            \n",
    "            text = completion.choices[0].message.content\n",
    "            try:\n",
    "                if 'boxed{' in text:\n",
    "                    text = text.split('boxed{')\n",
    "                    text = text[-1].split('}')[0]\n",
    "                    if 'text{' in text:\n",
    "                        text = text.split('text{')[1]\n",
    "                with open(filename, 'w') as fopen:\n",
    "                    json.dump(text, fopen)\n",
    "                break\n",
    "            except Exception as e:\n",
    "                print(e)"
   ]
  },
  {
   "cell_type": "code",
   "execution_count": 24,
   "id": "0435c54a",
   "metadata": {},
   "outputs": [
    {
     "name": "stderr",
     "output_type": "stream",
     "text": [
      "100%|█████████████████████████████████████████| 140/140 [31:35<00:00, 13.54s/it]\n"
     ]
    }
   ],
   "source": [
    "for i in tqdm(range(len(dataset))):\n",
    "    generate_answer(questions[i])"
   ]
  },
  {
   "cell_type": "code",
   "execution_count": 43,
   "id": "b7ae30be",
   "metadata": {},
   "outputs": [],
   "source": [
    "from sacrebleu.metrics import CHRF\n",
    "from glob import glob\n",
    "from collections import defaultdict\n",
    "import numpy as np"
   ]
  },
  {
   "cell_type": "code",
   "execution_count": 39,
   "id": "3efd4630",
   "metadata": {},
   "outputs": [
    {
     "name": "stderr",
     "output_type": "stream",
     "text": [
      "100%|███████████████████████████████████████| 140/140 [00:00<00:00, 1063.98it/s]\n"
     ]
    }
   ],
   "source": [
    "chrf = CHRF()\n",
    "pairs = defaultdict(list)\n",
    "\n",
    "for i in tqdm(range(len(dataset_lang))):\n",
    "    from_lang = dataset_lang[i]['from_lang']\n",
    "    to_lang = dataset_lang[i]['to_lang']\n",
    "    gt = dataset_lang[i]['answer']\n",
    "    pair = f'{from_lang}<>{to_lang}'\n",
    "    files = glob(f'openai-chatgpt4.1/{i}-*.json')\n",
    "    scores = []\n",
    "    for f in files:\n",
    "        with open(f) as fopen:\n",
    "            d = json.load(fopen)\n",
    "        score = chrf.corpus_score([d], [[gt]]).score\n",
    "        scores.append(score)\n",
    "\n",
    "    max_score = max(scores)\n",
    "    pairs[pair].append(max_score)"
   ]
  },
  {
   "cell_type": "code",
   "execution_count": 47,
   "id": "eb420b49",
   "metadata": {},
   "outputs": [
    {
     "name": "stdout",
     "output_type": "stream",
     "text": [
      "From: johor To: malay, score: 54.78567833962654\n",
      "From: kedah To: malay, score: 61.12657281892719\n",
      "From: pahang To: malay, score: 58.956758947267325\n",
      "From: negeri sembilan To: malay, score: 58.276749455174375\n",
      "From: kelantan To: malay, score: 48.246166249336184\n",
      "From: penang To: malay, score: 68.75697140481608\n",
      "From: melaka To: malay, score: 48.636754195346946\n",
      "From: malay To: johor, score: 51.79138167993752\n",
      "From: malay To: kedah, score: 53.0860308519873\n",
      "From: malay To: pahang, score: 45.08805800936419\n",
      "From: malay To: negeri sembilan, score: 45.7387086778156\n",
      "From: malay To: kelantan, score: 38.05722296237036\n",
      "From: malay To: penang, score: 57.909930402335206\n",
      "From: malay To: melaka, score: 55.77760894766224\n"
     ]
    }
   ],
   "source": [
    "for k, v in pairs.items():\n",
    "    l, r = k.split('<>')\n",
    "    print(f'From: {l} To: {r}, score:', np.mean(v))"
   ]
  },
  {
   "cell_type": "code",
   "execution_count": 53,
   "id": "6321bcdf",
   "metadata": {},
   "outputs": [
    {
     "data": {
      "text/plain": [
       "49.63556307592463"
      ]
     },
     "execution_count": 53,
     "metadata": {},
     "output_type": "execute_result"
    }
   ],
   "source": [
    "x = \"\"\"\n",
    "From: malay To: johor, score: 51.79138167993752\n",
    "From: malay To: kedah, score: 53.0860308519873\n",
    "From: malay To: pahang, score: 45.08805800936419\n",
    "From: malay To: negeri sembilan, score: 45.7387086778156\n",
    "From: malay To: kelantan, score: 38.05722296237036\n",
    "From: malay To: penang, score: 57.909930402335206\n",
    "From: malay To: melaka, score: 55.77760894766224\n",
    "\"\"\"\n",
    "\n",
    "scores = []\n",
    "for l in x.split('\\n'):\n",
    "    if 'score:' not in l:\n",
    "        continue\n",
    "    \n",
    "    scores.append(float(l.split('score: ')[1]))\n",
    "    \n",
    "np.mean(scores)"
   ]
  },
  {
   "cell_type": "code",
   "execution_count": null,
   "id": "ea12b761",
   "metadata": {},
   "outputs": [],
   "source": []
  }
 ],
 "metadata": {
  "kernelspec": {
   "display_name": "python3.10",
   "language": "python",
   "name": "python3.10"
  },
  "language_info": {
   "codemirror_mode": {
    "name": "ipython",
    "version": 3
   },
   "file_extension": ".py",
   "mimetype": "text/x-python",
   "name": "python",
   "nbconvert_exporter": "python",
   "pygments_lexer": "ipython3",
   "version": "3.10.17"
  }
 },
 "nbformat": 4,
 "nbformat_minor": 5
}
