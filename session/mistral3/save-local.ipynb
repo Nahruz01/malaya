{
 "cells": [
  {
   "cell_type": "code",
   "execution_count": 1,
   "id": "c0d7f0f0",
   "metadata": {},
   "outputs": [
    {
     "name": "stderr",
     "output_type": "stream",
     "text": [
      "/home/mesolitica/.local/lib/python3.10/site-packages/tqdm/auto.py:21: TqdmWarning: IProgress not found. Please update jupyter and ipywidgets. See https://ipywidgets.readthedocs.io/en/stable/user_install.html\n",
      "  from .autonotebook import tqdm as notebook_tqdm\n"
     ]
    },
    {
     "name": "stdout",
     "output_type": "stream",
     "text": [
      "[2025-05-31 11:21:17,783] [INFO] [real_accelerator.py:239:get_accelerator] Setting ds_accelerator to cuda (auto detect)\n"
     ]
    },
    {
     "name": "stderr",
     "output_type": "stream",
     "text": [
      "/usr/bin/ld: cannot find -laio: No such file or directory\n",
      "collect2: error: ld returned 1 exit status\n",
      "/usr/bin/ld: cannot find -lcufile: No such file or directory\n",
      "collect2: error: ld returned 1 exit status\n"
     ]
    }
   ],
   "source": [
    "from transformers import MistralForCausalLM, Mistral3ForConditionalGeneration"
   ]
  },
  {
   "cell_type": "code",
   "execution_count": 2,
   "id": "b64eb1ac",
   "metadata": {},
   "outputs": [
    {
     "name": "stderr",
     "output_type": "stream",
     "text": [
      "Loading checkpoint shards: 100%|███████████████████████████████████████████████████████████| 10/10 [00:00<00:00, 133.94it/s]\n"
     ]
    }
   ],
   "source": [
    "model = Mistral3ForConditionalGeneration.from_pretrained(\n",
    "    'mistralai/Mistral-Small-3.1-24B-Instruct-2503', torch_dtype = 'auto')"
   ]
  },
  {
   "cell_type": "code",
   "execution_count": 3,
   "id": "ed258bfd",
   "metadata": {},
   "outputs": [],
   "source": [
    "model.language_model.save_pretrained('./local')"
   ]
  },
  {
   "cell_type": "code",
   "execution_count": 4,
   "id": "07417a08",
   "metadata": {},
   "outputs": [],
   "source": [
    "from transformers import AutoTokenizer\n",
    "\n",
    "tokenizer = AutoTokenizer.from_pretrained('mistralai/Mistral-Small-3.1-24B-Instruct-2503')\n",
    "x = {\n",
    "  \"chat_template\": \"{%- set today = strftime_now(\\\"%Y-%m-%d\\\") %}\\n{%- set default_system_message = \\\"You are Mistral Small 3, a Large Language Model (LLM) created by Mistral AI, a French startup headquartered in Paris.\\\\nYour knowledge base was last updated on 2023-10-01. The current date is \\\" + today + \\\".\\\\n\\\\nWhen you're not sure about some information, you say that you don't have the information and don't make up anything.\\\\nIf the user's question is not clear, ambiguous, or does not provide enough context for you to accurately answer the question, you do not try to answer it right away and you rather ask the user to clarify their request (e.g. \\\\\\\"What are some good restaurants around me?\\\\\\\" => \\\\\\\"Where are you?\\\\\\\" or \\\\\\\"When is the next flight to Tokyo\\\\\\\" => \\\\\\\"Where do you travel from?\\\\\\\")\\\" %}\\n\\n{{- bos_token }}\\n\\n{%- if messages[0]['role'] == 'system' %}\\n    {%- if messages[0]['content'] is string %}\\n        {%- set system_message = messages[0]['content'] %}\\n    {%- else %}\\n        {%- set system_message = messages[0]['content'][0]['text'] %}\\n    {%- endif %}\\n    {%- set loop_messages = messages[1:] %}\\n{%- else %}\\n    {%- set system_message = default_system_message %}\\n    {%- set loop_messages = messages %}\\n{%- endif %}\\n{{- '[SYSTEM_PROMPT]' + system_message + '[/SYSTEM_PROMPT]' }}\\n\\n{%- for message in loop_messages %}\\n    {%- if message['role'] == 'user' %}\\n        {%- if message['content'] is string %}\\n            {{- '[INST]' + message['content'] + '[/INST]' }}\\n        {%- else %}\\n            {{- '[INST]' }}\\n            {%- for block in message['content'] %}\\n                {%- if block['type'] == 'text' %}\\n                    {{- block['text'] }}\\n                {%- elif block['type'] in ['image', 'image_url'] %}\\n                    {{- '[IMG]' }}\\n                {%- else %}\\n                    {{- raise_exception('Only text and image blocks are supported in message content!') }}\\n                {%- endif %}\\n            {%- endfor %}\\n            {{- '[/INST]' }}\\n        {%- endif %}\\n    {%- elif message['role'] == 'system' %}\\n        {%- if message['content'] is string %}\\n            {{- '[SYSTEM_PROMPT]' + message['content'] + '[/SYSTEM_PROMPT]' }}\\n        {%- else %}\\n            {{- '[SYSTEM_PROMPT]' + message['content'][0]['text'] + '[/SYSTEM_PROMPT]' }}\\n        {%- endif %}\\n    {%- elif message['role'] == 'assistant' %}\\n        {%- if message['content'] is string %}\\n            {{- message['content'] + eos_token }}\\n        {%- else %}\\n            {{- message['content'][0]['text'] + eos_token }}\\n        {%- endif %}\\n    {%- else %}\\n        {{- raise_exception('Only user, system and assistant roles are supported!') }}\\n    {%- endif %}\\n{%- endfor %}\"\n",
    "}\n",
    "tokenizer.chat_template = x['chat_template']"
   ]
  },
  {
   "cell_type": "code",
   "execution_count": 5,
   "id": "2c08300d",
   "metadata": {},
   "outputs": [
    {
     "data": {
      "text/plain": [
       "('./local/tokenizer_config.json',\n",
       " './local/special_tokens_map.json',\n",
       " './local/tokenizer.json')"
      ]
     },
     "execution_count": 5,
     "metadata": {},
     "output_type": "execute_result"
    }
   ],
   "source": [
    "tokenizer.save_pretrained('./local')"
   ]
  },
  {
   "cell_type": "code",
   "execution_count": 6,
   "id": "d085c49f",
   "metadata": {},
   "outputs": [
    {
     "name": "stderr",
     "output_type": "stream",
     "text": [
      "Loading checkpoint shards: 100%|████████████████████████████████████████████████████████████| 10/10 [00:05<00:00,  1.79it/s]\n"
     ]
    }
   ],
   "source": [
    "model2 = MistralForCausalLM.from_pretrained('./local')"
   ]
  },
  {
   "cell_type": "code",
   "execution_count": 7,
   "id": "48cd7cc1",
   "metadata": {},
   "outputs": [
    {
     "data": {
      "text/plain": [
       "MistralForCausalLM(\n",
       "  (model): MistralModel(\n",
       "    (embed_tokens): Embedding(131072, 5120)\n",
       "    (layers): ModuleList(\n",
       "      (0-39): 40 x MistralDecoderLayer(\n",
       "        (self_attn): MistralAttention(\n",
       "          (q_proj): Linear(in_features=5120, out_features=4096, bias=False)\n",
       "          (k_proj): Linear(in_features=5120, out_features=1024, bias=False)\n",
       "          (v_proj): Linear(in_features=5120, out_features=1024, bias=False)\n",
       "          (o_proj): Linear(in_features=4096, out_features=5120, bias=False)\n",
       "        )\n",
       "        (mlp): MistralMLP(\n",
       "          (gate_proj): Linear(in_features=5120, out_features=32768, bias=False)\n",
       "          (up_proj): Linear(in_features=5120, out_features=32768, bias=False)\n",
       "          (down_proj): Linear(in_features=32768, out_features=5120, bias=False)\n",
       "          (act_fn): SiLU()\n",
       "        )\n",
       "        (input_layernorm): MistralRMSNorm((5120,), eps=1e-05)\n",
       "        (post_attention_layernorm): MistralRMSNorm((5120,), eps=1e-05)\n",
       "      )\n",
       "    )\n",
       "    (norm): MistralRMSNorm((5120,), eps=1e-05)\n",
       "    (rotary_emb): MistralRotaryEmbedding()\n",
       "  )\n",
       "  (lm_head): Linear(in_features=5120, out_features=131072, bias=False)\n",
       ")"
      ]
     },
     "execution_count": 7,
     "metadata": {},
     "output_type": "execute_result"
    }
   ],
   "source": [
    "model2"
   ]
  },
  {
   "cell_type": "code",
   "execution_count": null,
   "id": "43ed7218",
   "metadata": {},
   "outputs": [],
   "source": []
  }
 ],
 "metadata": {
  "kernelspec": {
   "display_name": "Python 3 (ipykernel)",
   "language": "python",
   "name": "python3"
  },
  "language_info": {
   "codemirror_mode": {
    "name": "ipython",
    "version": 3
   },
   "file_extension": ".py",
   "mimetype": "text/x-python",
   "name": "python",
   "nbconvert_exporter": "python",
   "pygments_lexer": "ipython3",
   "version": "3.10.12"
  }
 },
 "nbformat": 4,
 "nbformat_minor": 5
}
