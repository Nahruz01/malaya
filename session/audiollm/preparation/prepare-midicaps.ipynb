{
 "cells": [
  {
   "cell_type": "code",
   "execution_count": 1,
   "id": "d49d1516",
   "metadata": {},
   "outputs": [
    {
     "data": {
      "application/vnd.jupyter.widget-view+json": {
       "model_id": "27bbc69ef6e545a6ab1be40c87bd581d",
       "version_major": 2,
       "version_minor": 0
      },
      "text/plain": [
       "Fetching 4 files:   0%|          | 0/4 [00:00<?, ?it/s]"
      ]
     },
     "metadata": {},
     "output_type": "display_data"
    },
    {
     "data": {
      "application/vnd.jupyter.widget-view+json": {
       "model_id": "2fb105359b564742a3f8e10663a4ac57",
       "version_major": 2,
       "version_minor": 0
      },
      "text/plain": [
       "midicaps.tar.gz:   0%|          | 0.00/1.62G [00:00<?, ?B/s]"
      ]
     },
     "metadata": {},
     "output_type": "display_data"
    },
    {
     "data": {
      "application/vnd.jupyter.widget-view+json": {
       "model_id": "3ad782603195445a88013c5f5adc9834",
       "version_major": 2,
       "version_minor": 0
      },
      "text/plain": [
       "README.md:   0%|          | 0.00/3.94k [00:00<?, ?B/s]"
      ]
     },
     "metadata": {},
     "output_type": "display_data"
    },
    {
     "data": {
      "application/vnd.jupyter.widget-view+json": {
       "model_id": "2a9cc7def44d487bb019508aab639b0f",
       "version_major": 2,
       "version_minor": 0
      },
      "text/plain": [
       "train.json:   0%|          | 0.00/428M [00:00<?, ?B/s]"
      ]
     },
     "metadata": {},
     "output_type": "display_data"
    },
    {
     "data": {
      "application/vnd.jupyter.widget-view+json": {
       "model_id": "ab6d8e6c112940db8f2cbd9bdd17bdcc",
       "version_major": 2,
       "version_minor": 0
      },
      "text/plain": [
       "gitattributes:   0%|          | 0.00/3.21k [00:00<?, ?B/s]"
      ]
     },
     "metadata": {},
     "output_type": "display_data"
    },
    {
     "data": {
      "text/plain": [
       "'/home/mesolitica/stt/MidiCaps'"
      ]
     },
     "execution_count": 1,
     "metadata": {},
     "output_type": "execute_result"
    }
   ],
   "source": [
    "from huggingface_hub import snapshot_download\n",
    "\n",
    "snapshot_download(\n",
    "    repo_id=\"amaai-lab/MidiCaps\",\n",
    "    repo_type=\"dataset\",\n",
    "    local_dir = './MidiCaps'\n",
    ")"
   ]
  },
  {
   "cell_type": "code",
   "execution_count": 2,
   "id": "b003aed8",
   "metadata": {},
   "outputs": [
    {
     "name": "stdout",
     "output_type": "stream",
     "text": [
      "gitattributes  midicaps.tar.gz\tREADME.md  train.json\r\n"
     ]
    }
   ],
   "source": [
    "!ls MidiCaps"
   ]
  },
  {
   "cell_type": "code",
   "execution_count": 7,
   "id": "e1e2ca27",
   "metadata": {},
   "outputs": [],
   "source": [
    "# !tar -zvxf MidiCaps/midicaps.tar.gz"
   ]
  },
  {
   "cell_type": "code",
   "execution_count": 6,
   "id": "41bce2ae",
   "metadata": {},
   "outputs": [],
   "source": [
    "!rm -rf lmd_full"
   ]
  },
  {
   "cell_type": "code",
   "execution_count": null,
   "id": "7ceae32c",
   "metadata": {},
   "outputs": [],
   "source": []
  }
 ],
 "metadata": {
  "kernelspec": {
   "display_name": "Python 3 (ipykernel)",
   "language": "python",
   "name": "python3"
  },
  "language_info": {
   "codemirror_mode": {
    "name": "ipython",
    "version": 3
   },
   "file_extension": ".py",
   "mimetype": "text/x-python",
   "name": "python",
   "nbconvert_exporter": "python",
   "pygments_lexer": "ipython3",
   "version": "3.10.12"
  }
 },
 "nbformat": 4,
 "nbformat_minor": 5
}
