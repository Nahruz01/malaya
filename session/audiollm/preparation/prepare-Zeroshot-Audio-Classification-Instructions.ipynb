{
 "cells": [
  {
   "cell_type": "code",
   "execution_count": 1,
   "id": "b84e1e81",
   "metadata": {},
   "outputs": [
    {
     "data": {
      "application/vnd.jupyter.widget-view+json": {
       "model_id": "8d7b5053784945e08f0fd313204c4dfc",
       "version_major": 2,
       "version_minor": 0
      },
      "text/plain": [
       "Fetching 19 files:   0%|          | 0/19 [00:00<?, ?it/s]"
      ]
     },
     "metadata": {},
     "output_type": "display_data"
    },
    {
     "data": {
      "application/vnd.jupyter.widget-view+json": {
       "model_id": "c1445c1e96bb445b8a20d06dac699e7a",
       "version_major": 2,
       "version_minor": 0
      },
      "text/plain": [
       "data/fsd50k-00000-of-00001.parquet:   0%|          | 0.00/2.25M [00:00<?, ?B/s]"
      ]
     },
     "metadata": {},
     "output_type": "display_data"
    },
    {
     "data": {
      "application/vnd.jupyter.widget-view+json": {
       "model_id": "a5944a1dade44b34beadbf1049fdfaca",
       "version_major": 2,
       "version_minor": 0
      },
      "text/plain": [
       "data/esd_emotion-00000-of-00001.parquet:   0%|          | 0.00/285k [00:00<?, ?B/s]"
      ]
     },
     "metadata": {},
     "output_type": "display_data"
    },
    {
     "data": {
      "application/vnd.jupyter.widget-view+json": {
       "model_id": "e47ac5d8fafe4de3b6c23479254d7340",
       "version_major": 2,
       "version_minor": 0
      },
      "text/plain": [
       "data/gender-00000-of-00001.parquet:   0%|          | 0.00/11.8M [00:00<?, ?B/s]"
      ]
     },
     "metadata": {},
     "output_type": "display_data"
    },
    {
     "data": {
      "application/vnd.jupyter.widget-view+json": {
       "model_id": "6df3ecc62b73455e9b7b0e146c7f5ac0",
       "version_major": 2,
       "version_minor": 0
      },
      "text/plain": [
       "data/emotion-00000-of-00001.parquet:   0%|          | 0.00/3.69M [00:00<?, ?B/s]"
      ]
     },
     "metadata": {},
     "output_type": "display_data"
    },
    {
     "data": {
      "application/vnd.jupyter.widget-view+json": {
       "model_id": "4b47b6f2cf0b4055ba2c9be9c40ea36e",
       "version_major": 2,
       "version_minor": 0
      },
      "text/plain": [
       "data/CochlScene_test-00000-of-00001.parq(…):   0%|          | 0.00/104k [00:00<?, ?B/s]"
      ]
     },
     "metadata": {},
     "output_type": "display_data"
    },
    {
     "data": {
      "application/vnd.jupyter.widget-view+json": {
       "model_id": "031a03066a894c268d6248d7a0ccd545",
       "version_major": 2,
       "version_minor": 0
      },
      "text/plain": [
       "data/CochlScene_train-00000-of-00001.par(…):   0%|          | 0.00/936k [00:00<?, ?B/s]"
      ]
     },
     "metadata": {},
     "output_type": "display_data"
    },
    {
     "data": {
      "application/vnd.jupyter.widget-view+json": {
       "model_id": "173988f49891402ab0def79b9abf52ef",
       "version_major": 2,
       "version_minor": 0
      },
      "text/plain": [
       "data/age-00000-of-00001.parquet:   0%|          | 0.00/11.8M [00:00<?, ?B/s]"
      ]
     },
     "metadata": {},
     "output_type": "display_data"
    },
    {
     "data": {
      "application/vnd.jupyter.widget-view+json": {
       "model_id": "36827e51bac944da820050c78e666e8d",
       "version_major": 2,
       "version_minor": 0
      },
      "text/plain": [
       "data/CochlScene_val-00000-of-00001.parqu(…):   0%|          | 0.00/99.9k [00:00<?, ?B/s]"
      ]
     },
     "metadata": {},
     "output_type": "display_data"
    },
    {
     "data": {
      "application/vnd.jupyter.widget-view+json": {
       "model_id": "8bd5dd3b2d894569864de76253de85d3",
       "version_major": 2,
       "version_minor": 0
      },
      "text/plain": [
       "data/language-00000-of-00001.parquet:   0%|          | 0.00/12.0M [00:00<?, ?B/s]"
      ]
     },
     "metadata": {},
     "output_type": "display_data"
    },
    {
     "data": {
      "application/vnd.jupyter.widget-view+json": {
       "model_id": "169ccb22eb3b47ce84888ac97b9408ee",
       "version_major": 2,
       "version_minor": 0
      },
      "text/plain": [
       "data/nonspeech7k_test-00000-of-00001.par(…):   0%|          | 0.00/31.1k [00:00<?, ?B/s]"
      ]
     },
     "metadata": {},
     "output_type": "display_data"
    },
    {
     "data": {
      "application/vnd.jupyter.widget-view+json": {
       "model_id": "9bd01fd98dcd4cac80f431311eefc253",
       "version_major": 2,
       "version_minor": 0
      },
      "text/plain": [
       "data/nonspeech7k_train-00000-of-00001.pa(…):   0%|          | 0.00/225k [00:00<?, ?B/s]"
      ]
     },
     "metadata": {},
     "output_type": "display_data"
    },
    {
     "data": {
      "application/vnd.jupyter.widget-view+json": {
       "model_id": "1c07a85928654a8b9c2071daf595ee50",
       "version_major": 2,
       "version_minor": 0
      },
      "text/plain": [
       "data/tau2022-00000-of-00001.parquet:   0%|          | 0.00/5.59M [00:00<?, ?B/s]"
      ]
     },
     "metadata": {},
     "output_type": "display_data"
    },
    {
     "data": {
      "application/vnd.jupyter.widget-view+json": {
       "model_id": "712df362aad147cf9eb24cbbd24e96d0",
       "version_major": 2,
       "version_minor": 0
      },
      "text/plain": [
       "data/urbansound8k-00000-of-00001.parquet:   0%|          | 0.00/330k [00:00<?, ?B/s]"
      ]
     },
     "metadata": {},
     "output_type": "display_data"
    },
    {
     "data": {
      "application/vnd.jupyter.widget-view+json": {
       "model_id": "f3db612d57664552a3b963d3fad7c406",
       "version_major": 2,
       "version_minor": 0
      },
      "text/plain": [
       "data/vggsound_test-00000-of-00001.parque(…):   0%|          | 0.00/839k [00:00<?, ?B/s]"
      ]
     },
     "metadata": {},
     "output_type": "display_data"
    },
    {
     "data": {
      "application/vnd.jupyter.widget-view+json": {
       "model_id": "51040893c53c4af888baeb6c0b7b8632",
       "version_major": 2,
       "version_minor": 0
      },
      "text/plain": [
       "data/vggsound_train-00000-of-00003.parqu(…):   0%|          | 0.00/2.99M [00:00<?, ?B/s]"
      ]
     },
     "metadata": {},
     "output_type": "display_data"
    },
    {
     "data": {
      "application/vnd.jupyter.widget-view+json": {
       "model_id": "0d8ade7474e24b6996fb551fd8656b4c",
       "version_major": 2,
       "version_minor": 0
      },
      "text/plain": [
       "data/vggsound_train-00001-of-00003.parqu(…):   0%|          | 0.00/2.99M [00:00<?, ?B/s]"
      ]
     },
     "metadata": {},
     "output_type": "display_data"
    },
    {
     "data": {
      "application/vnd.jupyter.widget-view+json": {
       "model_id": "19fd713d53cd4ec097ace779e4bb6a39",
       "version_major": 2,
       "version_minor": 0
      },
      "text/plain": [
       "data/vggsound_train-00002-of-00003.parqu(…):   0%|          | 0.00/2.99M [00:00<?, ?B/s]"
      ]
     },
     "metadata": {},
     "output_type": "display_data"
    },
    {
     "data": {
      "application/vnd.jupyter.widget-view+json": {
       "model_id": "b69700387a2d47598f9f8a405bfe74e6",
       "version_major": 2,
       "version_minor": 0
      },
      "text/plain": [
       "data/vocalsound_test-00000-of-00001.parq(…):   0%|          | 0.00/89.3k [00:00<?, ?B/s]"
      ]
     },
     "metadata": {},
     "output_type": "display_data"
    },
    {
     "data": {
      "application/vnd.jupyter.widget-view+json": {
       "model_id": "e173934513a94713bb3ed3a4f75d56be",
       "version_major": 2,
       "version_minor": 0
      },
      "text/plain": [
       "data/vocalsound_train-00000-of-00001.par(…):   0%|          | 0.00/402k [00:00<?, ?B/s]"
      ]
     },
     "metadata": {},
     "output_type": "display_data"
    }
   ],
   "source": [
    "from huggingface_hub import snapshot_download\n",
    "\n",
    "f = snapshot_download(\n",
    "    repo_id=\"mesolitica/Zeroshot-Audio-Classification-Instructions\",\n",
    "    repo_type='dataset',\n",
    "    allow_patterns=\"data/*.parquet\",\n",
    "    local_dir=\"./Zeroshot-Audio-Classification-Instructions\")"
   ]
  },
  {
   "cell_type": "code",
   "execution_count": 2,
   "id": "acda3802",
   "metadata": {},
   "outputs": [],
   "source": [
    "from glob import glob\n",
    "from tqdm import tqdm\n",
    "from multiprocess import Pool\n",
    "import itertools\n",
    "import zipfile\n",
    "import os\n",
    "\n",
    "def chunks(l, n):\n",
    "    for i in range(0, len(l), n):\n",
    "        yield (l[i: i + n], i // n)\n",
    "\n",
    "\n",
    "def multiprocessing(strings, function, cores=6, returned=True):\n",
    "    df_split = chunks(strings, len(strings) // cores)\n",
    "    pool = Pool(cores)\n",
    "    pooled = pool.map(function, df_split)\n",
    "    pool.close()\n",
    "    pool.join()\n",
    "\n",
    "    if returned:\n",
    "        return list(itertools.chain(*pooled))\n",
    "\n",
    "def loop(files):\n",
    "    files, _ = files\n",
    "    for zip_file_path in tqdm(files):\n",
    "        destination_folder = './'\n",
    "        with zipfile.ZipFile(zip_file_path, 'r') as zip_ref:\n",
    "            zip_ref.extractall(destination_folder)\n",
    "        os.remove(zip_file_path)\n",
    "\n",
    "# files = glob('*.zip')\n",
    "# if len(files):\n",
    "#     multiprocessing(files, loop, cores = min(len(files), 20), returned = False)"
   ]
  },
  {
   "cell_type": "code",
   "execution_count": 3,
   "id": "356cfc51",
   "metadata": {},
   "outputs": [
    {
     "name": "stderr",
     "output_type": "stream",
     "text": [
      "/usr/lib/python3/dist-packages/scipy/__init__.py:146: UserWarning: A NumPy version >=1.17.3 and <1.25.0 is required for this version of SciPy (detected version 1.26.4\n",
      "  warnings.warn(f\"A NumPy version >={np_minversion} and <{np_maxversion}\"\n"
     ]
    }
   ],
   "source": [
    "from transformers import AutoProcessor"
   ]
  },
  {
   "cell_type": "code",
   "execution_count": 4,
   "id": "05a611b9",
   "metadata": {},
   "outputs": [],
   "source": [
    "processor = AutoProcessor.from_pretrained(\"Qwen/Qwen2-Audio-7B-Instruct\")\n",
    "tokenizer = processor.tokenizer"
   ]
  },
  {
   "cell_type": "code",
   "execution_count": 13,
   "id": "3f73f0fa",
   "metadata": {},
   "outputs": [],
   "source": [
    "from glob import glob\n",
    "import pandas as pd\n",
    "\n",
    "rows = []\n",
    "\n",
    "files = glob('Zeroshot-Audio-Classification-Instructions/data/*.parquet')\n",
    "files = [f for f in files if 'test' not in f]\n",
    "for f in files:\n",
    "    df = pd.read_parquet(f).to_dict(orient = 'records')\n",
    "    rows.extend(df)"
   ]
  },
  {
   "cell_type": "code",
   "execution_count": 14,
   "id": "07a8ff8d",
   "metadata": {},
   "outputs": [
    {
     "data": {
      "text/plain": [
       "764417"
      ]
     },
     "execution_count": 14,
     "metadata": {},
     "output_type": "execute_result"
    }
   ],
   "source": [
    "len(rows)"
   ]
  },
  {
   "cell_type": "code",
   "execution_count": 15,
   "id": "1f0fe0c7",
   "metadata": {},
   "outputs": [],
   "source": [
    "import json\n",
    "import pandas as pd\n",
    "\n",
    "def loop(rows):\n",
    "    rows, _ = rows\n",
    "    data = []\n",
    "    for r in tqdm(rows):\n",
    "        f = r['audio_filename']\n",
    "        if not os.path.exists(f):\n",
    "            continue\n",
    "            \n",
    "        try:\n",
    "            conversation = [\n",
    "                {\"role\": \"user\", \"content\": [\n",
    "                    {\"type\": \"audio\", \"audio_url\": \"audio.wav\"},\n",
    "                    {\"type\": \"text\", \"text\": r['question']},\n",
    "                ]},\n",
    "                {\"role\": \"assistant\", \"content\": r['answer']},\n",
    "            ]\n",
    "            text = processor.apply_chat_template(conversation, tokenize=False)\n",
    "        except Exception as e:\n",
    "            continue\n",
    "        \n",
    "\n",
    "        data.append({\n",
    "            'text': text,\n",
    "            'audio': f,\n",
    "        })\n",
    "    return data"
   ]
  },
  {
   "cell_type": "code",
   "execution_count": 16,
   "id": "b667c078",
   "metadata": {
    "scrolled": true
   },
   "outputs": [
    {
     "name": "stderr",
     "output_type": "stream",
     "text": [
      "100%|███████████████████████████████████████████████████████████████████████████████| 25480/25480 [00:04<00:00, 5360.93it/s]\n",
      "100%|███████████████████████████████████████████████████████████████████████████████| 25480/25480 [00:04<00:00, 5552.72it/s]\n",
      "100%|███████████████████████████████████████████████████████████████████████████████| 25480/25480 [00:04<00:00, 5671.32it/s]\n",
      "100%|███████████████████████████████████████████████████████████████████████████████| 25480/25480 [00:04<00:00, 5617.59it/s]\n",
      "100%|███████████████████████████████████████████████████████████████████████████████| 25480/25480 [00:04<00:00, 5360.95it/s]\n",
      "100%|███████████████████████████████████████████████████████████████████████████████| 25480/25480 [00:04<00:00, 5698.89it/s]\n",
      "100%|███████████████████████████████████████████████████████████████████████████████| 25480/25480 [00:04<00:00, 5543.68it/s]\n",
      "100%|███████████████████████████████████████████████████████████████████████████████| 25480/25480 [00:04<00:00, 5558.18it/s]\n",
      "100%|███████████████████████████████████████████████████████████████████████████████| 25480/25480 [00:04<00:00, 5522.27it/s]\n",
      "100%|███████████████████████████████████████████████████████████████████████████████| 25480/25480 [00:04<00:00, 5640.27it/s]\n",
      "100%|███████████████████████████████████████████████████████████████████████████████| 25480/25480 [00:04<00:00, 5618.34it/s]\n",
      "100%|███████████████████████████████████████████████████████████████████████████████| 25480/25480 [00:04<00:00, 5653.34it/s]\n",
      "100%|███████████████████████████████████████████████████████████████████████████████| 25480/25480 [00:04<00:00, 5658.48it/s]\n",
      "100%|███████████████████████████████████████████████████████████████████████████████| 25480/25480 [00:04<00:00, 5590.14it/s]\n",
      "100%|███████████████████████████████████████████████████████████████████████████████| 25480/25480 [00:04<00:00, 5617.39it/s]\n",
      "100%|███████████████████████████████████████████████████████████████████████████████| 25480/25480 [00:04<00:00, 5466.15it/s]\n",
      "100%|███████████████████████████████████████████████████████████████████████████████| 25480/25480 [00:04<00:00, 5596.35it/s]\n",
      "100%|███████████████████████████████████████████████████████████████████████████████| 25480/25480 [00:04<00:00, 5501.41it/s]\n",
      "100%|███████████████████████████████████████████████████████████████████████████████| 25480/25480 [00:04<00:00, 5594.07it/s]\n",
      "100%|███████████████████████████████████████████████████████████████████████████████| 25480/25480 [00:04<00:00, 5426.93it/s]\n",
      "100%|███████████████████████████████████████████████████████████████████████████████| 25480/25480 [00:04<00:00, 5380.06it/s]\n",
      "100%|█████████████████████████████████████████████████████████████████████████████████████| 17/17 [00:00<00:00, 5136.75it/s]\n",
      "100%|███████████████████████████████████████████████████████████████████████████████| 25480/25480 [00:04<00:00, 5598.08it/s]\n",
      "100%|███████████████████████████████████████████████████████████████████████████████| 25480/25480 [00:04<00:00, 5471.74it/s]\n",
      "100%|███████████████████████████████████████████████████████████████████████████████| 25480/25480 [00:04<00:00, 5556.52it/s]\n",
      "100%|███████████████████████████████████████████████████████████████████████████████| 25480/25480 [00:04<00:00, 5570.30it/s]\n",
      "100%|███████████████████████████████████████████████████████████████████████████████| 25480/25480 [00:04<00:00, 5646.79it/s]\n",
      "100%|███████████████████████████████████████████████████████████████████████████████| 25480/25480 [00:04<00:00, 5688.76it/s]\n",
      "100%|███████████████████████████████████████████████████████████████████████████████| 25480/25480 [00:04<00:00, 5707.15it/s]\n",
      "100%|███████████████████████████████████████████████████████████████████████████████| 25480/25480 [00:04<00:00, 5629.44it/s]\n",
      "100%|███████████████████████████████████████████████████████████████████████████████| 25480/25480 [00:04<00:00, 5664.59it/s]\n"
     ]
    }
   ],
   "source": [
    "processed = multiprocessing(rows, loop, cores = 30)"
   ]
  },
  {
   "cell_type": "code",
   "execution_count": 17,
   "id": "b7e7d3c5",
   "metadata": {},
   "outputs": [
    {
     "data": {
      "text/plain": [
       "764417"
      ]
     },
     "execution_count": 17,
     "metadata": {},
     "output_type": "execute_result"
    }
   ],
   "source": [
    "len(processed)"
   ]
  },
  {
   "cell_type": "code",
   "execution_count": 18,
   "id": "e30cd7eb",
   "metadata": {},
   "outputs": [],
   "source": [
    "with open('prepare-Zeroshot-Audio-Classification-Instructions.json', 'w') as fopen:\n",
    "    json.dump(processed, fopen)"
   ]
  },
  {
   "cell_type": "code",
   "execution_count": 19,
   "id": "a5971c69",
   "metadata": {},
   "outputs": [
    {
     "data": {
      "text/plain": [
       "{'text': \"<|im_start|>system\\nYou are a helpful assistant.<|im_end|>\\n<|im_start|>user\\nAudio 1: <|audio_bos|><|AUDIO|><|audio_eos|>\\ngiven the labels\\n['people marching', 'waterfall burbling', 'playing tennis', 'people belly laughing', 'car engine starting', 'alarm clock ringing', 'female speech, woman speaking', 'cricket chirping', 'wind noise', 'foghorn', 'people battle cry', 'playing volleyball', 'female singing', 'playing harpsichord', 'male speech, man speaking', 'playing bassoon', 'playing piano', 'people clapping', 'bee, wasp, etc. buzzing', 'baby babbling', 'people whispering', 'coyote howling', 'metronome', 'playing harp', 'airplane', 'rope skipping', 'ambulance siren', 'people coughing', 'pheasant crowing', 'bird wings flapping', 'cap gun shooting', 'child singing', 'race car, auto racing', 'male singing', 'playing bass guitar', 'playing violin, fiddle', 'playing bongo', 'playing erhu', 'tap dancing', 'playing electronic organ', 'playing congas', 'subway, metro, underground', 'car passing by', 'orchestra', 'playing acoustic guitar', 'hammering nails', 'duck quacking', 'playing harmonica', 'dog growling', 'church bell ringing', 'playing table tennis', 'skateboarding', 'playing steel guitar, slide guitar', 'playing squash', 'playing bass drum', 'police radio chatter', 'horse clip-clop', 'horse neighing', 'playing double bass', 'playing cello', 'people booing', 'playing electric guitar', 'raining', 'gibbon howling', 'toilet flushing', 'missile launch', 'driving buses', 'motorboat, speedboat acceleration', 'playing didgeridoo', 'playing glockenspiel', 'skiing', 'playing oboe', 'arc welding', 'sheep bleating', 'chimpanzee pant-hooting', 'playing cornet', 'lighting firecrackers', 'bowling impact', 'cow lowing', 'planing timber', 'people finger snapping', 'pigeon, dove cooing', 'fire crackling', 'playing tabla', 'cupboard opening or closing', 'crow cawing', 'vehicle horn, car horn, honking', 'playing washboard', 'fire truck siren', 'pumping water', 'cat growling', 'beat boxing', 'playing bagpipes', 'playing trumpet', 'woodpecker pecking tree', 'playing banjo', 'people crowd', 'chicken crowing', 'rowboat, canoe, kayak rowing', 'forging swords', 'footsteps on snow', 'driving motorcycle', 'owl hooting', 'mosquito buzzing', 'air horn', 'child speech, kid speaking', 'slot machine', 'lions growling', 'playing flute', 'playing synthesizer', 'railroad car, train wagon', 'car engine knocking', 'playing accordion', 'sharpen knife', 'playing drum kit', 'playing trombone', 'train whistling', 'reversing beeps', 'singing choir', 'chainsawing trees', 'printer printing', 'chicken clucking', 'underwater bubbling', 'people nose blowing', 'ice cracking', 'playing lacrosse', 'playing timpani', 'tapping guitar', 'turkey gobbling', 'door slamming', 'playing saxophone', 'playing french horn', 'sea waves', 'playing clarinet', 'using sewing machines', 'vacuum cleaner cleaning floors', 'playing castanets', 'pig oinking', 'lawn mowing', 'basketball bounce', 'eletric blender running', 'thunder', 'dog whimpering', 'car engine idling', 'people sobbing', 'playing theremin', 'fox barking', 'playing ukulele', 'parrot talking', 'playing cymbal', 'people shuffling', 'people eating noodle', 'playing steelpan', 'people farting', 'running electric fan', 'mouse clicking', 'ice cream truck, ice cream van', 'chopping food', 'lathe spinning', 'playing tympani', 'canary calling', 'helicopter', 'playing sitar', 'people screaming', 'baby crying', 'cell phone buzzing', 'train horning', 'donkey, ass braying', 'striking pool', 'cat meowing', 'tractor digging', 'playing hammond organ', 'mouse pattering', 'people hiccup', 'air conditioning noise', 'playing snare drum', 'penguins braying', 'playing hockey', 'wood thrush calling', 'stream burbling', 'playing marimba, xylophone', 'baby laughter', 'playing tambourine', 'singing bowl', 'engine accelerating, revving, vroom', 'yodelling', 'machine gun shooting', 'electric grinder grinding', 'swimming', 'electric shaver, electric razor shaving', 'people babbling', 'police car (siren)', 'opening or closing car doors', 'fireworks banging', 'people giggling', 'playing djembe', 'baltimore oriole calling', 'sliding door', 'typing on computer keyboard', 'people running', 'hail', 'driving snowmobile', 'sailing', 'civil defense siren', 'plastic bottle crushing', 'elephant trumpeting', 'goose honking', 'eating with cutlery', 'dog bow-wow', 'cattle, bovinae cowbell', 'people eating crisps', 'skidding', 'dog barking', 'squishing water', 'roller coaster running', 'smoke detector beeping', 'ocean burbling', 'airplane flyby', 'firing cannon', 'ripping paper', 'alligators, crocodiles hissing', 'cuckoo bird calling', 'people cheering', 'people sniggering', 'playing badminton', 'frog croaking', 'people burping', 'golf driving', 'people sneezing', 'mynah bird singing', 'splashing water', 'cattle mooing', 'rapping', 'cat purring', 'magpie calling', 'strike lighter', 'people eating', 'francolin calling', 'bird squawking', 'playing vibraphone', 'playing mandolin', 'lip smacking', 'zebra braying', 'disc scratching', 'popping popcorn', 'cat caterwauling', 'ferret dooking', 'wind rustling leaves', 'elk bugling', 'barn swallow calling', 'volcano explosion', 'heart sounds, heartbeat', 'firing muskets', 'mouse squeaking', 'playing timbales', 'people slapping', 'telephone bell ringing', 'playing shofar', 'opening or closing drawers', 'chinchilla barking', 'people whistling', 'spraying water', 'playing tuning fork', 'train wheels squealing', 'bird chirping, tweeting', 'tornado roaring', 'writing on blackboard with chalk', 'extending ladders', 'scuba diving', 'typing on typewriter', 'dog howling', 'people slurping', 'snake rattling', 'wind chime', 'cheetah chirrup', 'children shouting', 'playing gong', 'people humming', 'snake hissing', 'cat hissing', 'people gargling', 'blowtorch igniting', 'playing bugle', 'dinosaurs bellowing', 'chipmunk chirping', 'playing zither', 'playing darts', 'chopping wood', 'shot football', 'sea lion barking', 'dog baying', 'sloshing water', 'black capped chickadee calling', 'lions roaring', 'playing guiro', 'striking bowling', 'bouncing on trampoline', 'eagle screaming', 'hedge trimmer running', 'bathroom ventilation fan running', 'hair dryer drying', 'cutting hair with electric trimmers', 'people eating apple', 'fly, housefly buzzing', 'bull bellowing', 'otter growling', 'opening or closing car electric windows', 'warbler chirping', 'goat bleating', 'whale calling']\\n\\nwhat is the label for the audio<|im_end|>\\n<|im_start|>assistant\\nfire truck siren<|im_end|>\\n\",\n",
       " 'audio': 'vggsound-mp3/HsCj9l5Barg_000006.mp3'}"
      ]
     },
     "execution_count": 19,
     "metadata": {},
     "output_type": "execute_result"
    }
   ],
   "source": [
    "processed[0]"
   ]
  }
 ],
 "metadata": {
  "kernelspec": {
   "display_name": "Python 3 (ipykernel)",
   "language": "python",
   "name": "python3"
  },
  "language_info": {
   "codemirror_mode": {
    "name": "ipython",
    "version": 3
   },
   "file_extension": ".py",
   "mimetype": "text/x-python",
   "name": "python",
   "nbconvert_exporter": "python",
   "pygments_lexer": "ipython3",
   "version": "3.10.12"
  }
 },
 "nbformat": 4,
 "nbformat_minor": 5
}
