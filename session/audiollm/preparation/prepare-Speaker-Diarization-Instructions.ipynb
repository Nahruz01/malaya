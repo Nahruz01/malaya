{
 "cells": [
  {
   "cell_type": "code",
   "execution_count": 1,
   "id": "b84e1e81",
   "metadata": {},
   "outputs": [
    {
     "data": {
      "application/vnd.jupyter.widget-view+json": {
       "model_id": "714163e704a94593ad402e84e093b62d",
       "version_major": 2,
       "version_minor": 0
      },
      "text/plain": [
       "Fetching 10 files:   0%|          | 0/10 [00:00<?, ?it/s]"
      ]
     },
     "metadata": {},
     "output_type": "display_data"
    },
    {
     "data": {
      "application/vnd.jupyter.widget-view+json": {
       "model_id": "efa1dfa5541f423aa18c9e0aae736450",
       "version_major": 2,
       "version_minor": 0
      },
      "text/plain": [
       "data/synthetic_speaker_diarization_datas(…):   0%|          | 0.00/1.89M [00:00<?, ?B/s]"
      ]
     },
     "metadata": {},
     "output_type": "display_data"
    }
   ],
   "source": [
    "from huggingface_hub import snapshot_download\n",
    "\n",
    "f = snapshot_download(\n",
    "    repo_id=\"mesolitica/Speaker-Diarization-Instructions\",\n",
    "    repo_type='dataset',\n",
    "    allow_patterns=\"data/*.parquet\",\n",
    "    local_dir=\"./Speaker-Diarization-Instructions\")"
   ]
  },
  {
   "cell_type": "code",
   "execution_count": 2,
   "id": "acda3802",
   "metadata": {},
   "outputs": [],
   "source": [
    "from glob import glob\n",
    "from tqdm import tqdm\n",
    "from multiprocess import Pool\n",
    "import itertools\n",
    "import zipfile\n",
    "import os\n",
    "\n",
    "def chunks(l, n):\n",
    "    for i in range(0, len(l), n):\n",
    "        yield (l[i: i + n], i // n)\n",
    "\n",
    "\n",
    "def multiprocessing(strings, function, cores=6, returned=True):\n",
    "    df_split = chunks(strings, len(strings) // cores)\n",
    "    pool = Pool(cores)\n",
    "    pooled = pool.map(function, df_split)\n",
    "    pool.close()\n",
    "    pool.join()\n",
    "\n",
    "    if returned:\n",
    "        return list(itertools.chain(*pooled))\n",
    "\n",
    "def loop(files):\n",
    "    files, _ = files\n",
    "    for zip_file_path in tqdm(files):\n",
    "        destination_folder = './'\n",
    "        with zipfile.ZipFile(zip_file_path, 'r') as zip_ref:\n",
    "            zip_ref.extractall(destination_folder)\n",
    "        os.remove(zip_file_path)\n",
    "\n",
    "# files = glob('*.zip')\n",
    "# if len(files):\n",
    "#     multiprocessing(files, loop, cores = min(len(files), 20), returned = False)"
   ]
  },
  {
   "cell_type": "code",
   "execution_count": 3,
   "id": "356cfc51",
   "metadata": {},
   "outputs": [
    {
     "name": "stderr",
     "output_type": "stream",
     "text": [
      "/usr/lib/python3/dist-packages/scipy/__init__.py:146: UserWarning: A NumPy version >=1.17.3 and <1.25.0 is required for this version of SciPy (detected version 1.26.4\n",
      "  warnings.warn(f\"A NumPy version >={np_minversion} and <{np_maxversion}\"\n"
     ]
    }
   ],
   "source": [
    "from transformers import AutoProcessor"
   ]
  },
  {
   "cell_type": "code",
   "execution_count": 4,
   "id": "05a611b9",
   "metadata": {},
   "outputs": [],
   "source": [
    "processor = AutoProcessor.from_pretrained(\"Qwen/Qwen2-Audio-7B-Instruct\")\n",
    "tokenizer = processor.tokenizer"
   ]
  },
  {
   "cell_type": "code",
   "execution_count": 5,
   "id": "3f73f0fa",
   "metadata": {},
   "outputs": [],
   "source": [
    "from glob import glob\n",
    "import pandas as pd\n",
    "\n",
    "rows = []\n",
    "\n",
    "files = glob('Speaker-Diarization-Instructions/data/*.parquet')\n",
    "files = [f for f in files if not ('ami' in f and 'test' in f)]\n",
    "for f in files:\n",
    "    df = pd.read_parquet(f).to_dict(orient = 'records')\n",
    "    rows.extend(df)"
   ]
  },
  {
   "cell_type": "code",
   "execution_count": 6,
   "id": "07a8ff8d",
   "metadata": {},
   "outputs": [
    {
     "data": {
      "text/plain": [
       "98568"
      ]
     },
     "execution_count": 6,
     "metadata": {},
     "output_type": "execute_result"
    }
   ],
   "source": [
    "len(rows)"
   ]
  },
  {
   "cell_type": "code",
   "execution_count": 7,
   "id": "841c6d3f",
   "metadata": {},
   "outputs": [
    {
     "data": {
      "text/plain": [
       "{'question': 'diarize the audio using whisper format',\n",
       " 'answer': '<|0.00|> speaker A<|1.14|><|4.76|> speaker A<|6.66|><|7.32|> speaker B<|7.92|><|8.52|> speaker A<|11.72|><|15.44|> speaker A<|15.92|><|16.30|> speaker B<|18.88|><|20.22|> speaker C<|20.74|><|20.32|> speaker A<|20.78|><|20.42|> speaker B<|22.96|><|22.92|> speaker A<|24.34|><|23.06|> speaker C<|24.24|><|25.90|> speaker C<|27.54|>',\n",
       " 'audio_filename': 'ami-ihm/train-0-0.mp3'}"
      ]
     },
     "execution_count": 7,
     "metadata": {},
     "output_type": "execute_result"
    }
   ],
   "source": [
    "rows[0]"
   ]
  },
  {
   "cell_type": "code",
   "execution_count": 8,
   "id": "1f0fe0c7",
   "metadata": {},
   "outputs": [],
   "source": [
    "import json\n",
    "import pandas as pd\n",
    "\n",
    "def loop(rows):\n",
    "    rows, _ = rows\n",
    "    data = []\n",
    "    for r in tqdm(rows):\n",
    "        f = r['audio_filename']\n",
    "        if not os.path.exists(f):\n",
    "            continue\n",
    "            \n",
    "        try:\n",
    "            conversation = [\n",
    "                {\"role\": \"user\", \"content\": [\n",
    "                    {\"type\": \"audio\", \"audio_url\": \"audio.wav\"},\n",
    "                    {\"type\": \"text\", \"text\": r['question']},\n",
    "                ]},\n",
    "                {\"role\": \"assistant\", \"content\": r['answer']},\n",
    "            ]\n",
    "            text = processor.apply_chat_template(conversation, tokenize=False)\n",
    "        except Exception as e:\n",
    "            continue\n",
    "        \n",
    "\n",
    "        data.append({\n",
    "            'text': text,\n",
    "            'audio': f,\n",
    "        })\n",
    "    return data"
   ]
  },
  {
   "cell_type": "code",
   "execution_count": 9,
   "id": "b667c078",
   "metadata": {
    "scrolled": true
   },
   "outputs": [
    {
     "name": "stderr",
     "output_type": "stream",
     "text": [
      "100%|█████████████████████████████████████████████████████████████████████████████████| 3285/3285 [00:00<00:00, 5504.12it/s]\n",
      "100%|█████████████████████████████████████████████████████████████████████████████████| 3285/3285 [00:00<00:00, 5517.82it/s]\n",
      "100%|█████████████████████████████████████████████████████████████████████████████████| 3285/3285 [00:00<00:00, 5520.21it/s]\n",
      "100%|█████████████████████████████████████████████████████████████████████████████████| 3285/3285 [00:00<00:00, 5500.50it/s]\n",
      "100%|█████████████████████████████████████████████████████████████████████████████████| 3285/3285 [00:00<00:00, 5519.52it/s]\n",
      "100%|█████████████████████████████████████████████████████████████████████████████████| 3285/3285 [00:00<00:00, 5504.68it/s]\n",
      "100%|█████████████████████████████████████████████████████████████████████████████████| 3285/3285 [00:00<00:00, 5387.79it/s]\n",
      "100%|█████████████████████████████████████████████████████████████████████████████████| 3285/3285 [00:00<00:00, 5484.69it/s]\n",
      "100%|█████████████████████████████████████████████████████████████████████████████████| 3285/3285 [00:00<00:00, 5314.40it/s]\n",
      "100%|█████████████████████████████████████████████████████████████████████████████████| 3285/3285 [00:00<00:00, 5536.96it/s]\n",
      "100%|█████████████████████████████████████████████████████████████████████████████████| 3285/3285 [00:00<00:00, 5483.38it/s]\n",
      "100%|█████████████████████████████████████████████████████████████████████████████████| 3285/3285 [00:00<00:00, 5410.15it/s]\n",
      "100%|█████████████████████████████████████████████████████████████████████████████████| 3285/3285 [00:00<00:00, 5389.63it/s]\n",
      "100%|█████████████████████████████████████████████████████████████████████████████████| 3285/3285 [00:00<00:00, 5421.69it/s]\n",
      "100%|█████████████████████████████████████████████████████████████████████████████████| 3285/3285 [00:00<00:00, 5486.25it/s]\n",
      "100%|█████████████████████████████████████████████████████████████████████████████████| 3285/3285 [00:00<00:00, 5498.41it/s]\n",
      "100%|█████████████████████████████████████████████████████████████████████████████████| 3285/3285 [00:00<00:00, 5444.03it/s]\n",
      "100%|█████████████████████████████████████████████████████████████████████████████████| 3285/3285 [00:00<00:00, 5514.52it/s]\n",
      "100%|█████████████████████████████████████████████████████████████████████████████████████| 18/18 [00:00<00:00, 5196.33it/s]\n",
      "100%|█████████████████████████████████████████████████████████████████████████████████| 3285/3285 [00:00<00:00, 5508.11it/s]\n",
      "100%|█████████████████████████████████████████████████████████████████████████████████| 3285/3285 [00:00<00:00, 5501.46it/s]\n",
      "100%|█████████████████████████████████████████████████████████████████████████████████| 3285/3285 [00:00<00:00, 5526.89it/s]\n",
      "100%|█████████████████████████████████████████████████████████████████████████████████| 3285/3285 [00:00<00:00, 5537.00it/s]\n",
      "100%|█████████████████████████████████████████████████████████████████████████████████| 3285/3285 [00:00<00:00, 5524.02it/s]\n",
      "100%|█████████████████████████████████████████████████████████████████████████████████| 3285/3285 [00:00<00:00, 5513.18it/s]\n",
      "100%|█████████████████████████████████████████████████████████████████████████████████| 3285/3285 [00:00<00:00, 5510.08it/s]\n",
      "100%|█████████████████████████████████████████████████████████████████████████████████| 3285/3285 [00:00<00:00, 5527.95it/s]\n",
      "100%|█████████████████████████████████████████████████████████████████████████████████| 3285/3285 [00:00<00:00, 5537.02it/s]\n",
      "100%|█████████████████████████████████████████████████████████████████████████████████| 3285/3285 [00:00<00:00, 5524.65it/s]\n",
      "100%|█████████████████████████████████████████████████████████████████████████████████| 3285/3285 [00:00<00:00, 5537.01it/s]\n",
      "100%|█████████████████████████████████████████████████████████████████████████████████| 3285/3285 [00:00<00:00, 5538.54it/s]\n"
     ]
    }
   ],
   "source": [
    "processed = multiprocessing(rows, loop, cores = 30)"
   ]
  },
  {
   "cell_type": "code",
   "execution_count": 10,
   "id": "b7e7d3c5",
   "metadata": {},
   "outputs": [
    {
     "data": {
      "text/plain": [
       "98568"
      ]
     },
     "execution_count": 10,
     "metadata": {},
     "output_type": "execute_result"
    }
   ],
   "source": [
    "len(processed)"
   ]
  },
  {
   "cell_type": "code",
   "execution_count": 11,
   "id": "e30cd7eb",
   "metadata": {},
   "outputs": [],
   "source": [
    "with open('prepare-Speaker-Diarization-Instructions.json', 'w') as fopen:\n",
    "    json.dump(processed, fopen)"
   ]
  },
  {
   "cell_type": "code",
   "execution_count": 12,
   "id": "a5971c69",
   "metadata": {},
   "outputs": [
    {
     "data": {
      "text/plain": [
       "{'text': '<|im_start|>system\\nYou are a helpful assistant.<|im_end|>\\n<|im_start|>user\\nAudio 1: <|audio_bos|><|AUDIO|><|audio_eos|>\\ndiarize the audio using whisper format<|im_end|>\\n<|im_start|>assistant\\n<|0.00|> speaker A<|1.14|><|4.76|> speaker A<|6.66|><|7.32|> speaker B<|7.92|><|8.52|> speaker A<|11.72|><|15.44|> speaker A<|15.92|><|16.30|> speaker B<|18.88|><|20.22|> speaker C<|20.74|><|20.32|> speaker A<|20.78|><|20.42|> speaker B<|22.96|><|22.92|> speaker A<|24.34|><|23.06|> speaker C<|24.24|><|25.90|> speaker C<|27.54|><|im_end|>\\n',\n",
       " 'audio': 'ami-ihm/train-0-0.mp3'}"
      ]
     },
     "execution_count": 12,
     "metadata": {},
     "output_type": "execute_result"
    }
   ],
   "source": [
    "processed[0]"
   ]
  }
 ],
 "metadata": {
  "kernelspec": {
   "display_name": "Python 3 (ipykernel)",
   "language": "python",
   "name": "python3"
  },
  "language_info": {
   "codemirror_mode": {
    "name": "ipython",
    "version": 3
   },
   "file_extension": ".py",
   "mimetype": "text/x-python",
   "name": "python",
   "nbconvert_exporter": "python",
   "pygments_lexer": "ipython3",
   "version": "3.10.12"
  }
 },
 "nbformat": 4,
 "nbformat_minor": 5
}
