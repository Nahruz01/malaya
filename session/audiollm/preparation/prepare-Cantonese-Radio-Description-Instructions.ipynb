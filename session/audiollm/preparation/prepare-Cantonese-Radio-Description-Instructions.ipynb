{
 "cells": [
  {
   "cell_type": "code",
   "execution_count": 1,
   "id": "b84e1e81",
   "metadata": {},
   "outputs": [
    {
     "data": {
      "application/vnd.jupyter.widget-view+json": {
       "model_id": "a32d12295a1940598ad2eba948cd2606",
       "version_major": 2,
       "version_minor": 0
      },
      "text/plain": [
       "Fetching 2 files:   0%|          | 0/2 [00:00<?, ?it/s]"
      ]
     },
     "metadata": {},
     "output_type": "display_data"
    },
    {
     "data": {
      "application/vnd.jupyter.widget-view+json": {
       "model_id": "31ac3d3b4de04fa0bd268aaa0d9c4414",
       "version_major": 2,
       "version_minor": 0
      },
      "text/plain": [
       "data/train-00001-of-00002.parquet:   0%|          | 0.00/232M [00:00<?, ?B/s]"
      ]
     },
     "metadata": {},
     "output_type": "display_data"
    },
    {
     "data": {
      "application/vnd.jupyter.widget-view+json": {
       "model_id": "b1ca81e17a3d4ec3a4d40f53241a1484",
       "version_major": 2,
       "version_minor": 0
      },
      "text/plain": [
       "data/train-00000-of-00002.parquet:   0%|          | 0.00/234M [00:00<?, ?B/s]"
      ]
     },
     "metadata": {},
     "output_type": "display_data"
    }
   ],
   "source": [
    "from huggingface_hub import snapshot_download\n",
    "\n",
    "f = snapshot_download(\n",
    "    repo_id=\"mesolitica/Cantonese-Radio-Description-Instructions\",\n",
    "    repo_type='dataset',\n",
    "    allow_patterns=\"data/*.parquet\",\n",
    "    local_dir=\"./Cantonese-Radio-Description-Instructions\")"
   ]
  },
  {
   "cell_type": "code",
   "execution_count": 2,
   "id": "acda3802",
   "metadata": {},
   "outputs": [],
   "source": [
    "from glob import glob\n",
    "from tqdm import tqdm\n",
    "from multiprocess import Pool\n",
    "import itertools\n",
    "import zipfile\n",
    "import os\n",
    "\n",
    "def chunks(l, n):\n",
    "    for i in range(0, len(l), n):\n",
    "        yield (l[i: i + n], i // n)\n",
    "\n",
    "\n",
    "def multiprocessing(strings, function, cores=6, returned=True):\n",
    "    df_split = chunks(strings, len(strings) // cores)\n",
    "    pool = Pool(cores)\n",
    "    pooled = pool.map(function, df_split)\n",
    "    pool.close()\n",
    "    pool.join()\n",
    "\n",
    "    if returned:\n",
    "        return list(itertools.chain(*pooled))\n",
    "\n",
    "def loop(files):\n",
    "    files, _ = files\n",
    "    for zip_file_path in tqdm(files):\n",
    "        destination_folder = './'\n",
    "        with zipfile.ZipFile(zip_file_path, 'r') as zip_ref:\n",
    "            zip_ref.extractall(destination_folder)\n",
    "        os.remove(zip_file_path)\n",
    "\n",
    "# files = glob('*.zip')\n",
    "# if len(files):\n",
    "#     multiprocessing(files, loop, cores = min(len(files), 20), returned = False)"
   ]
  },
  {
   "cell_type": "code",
   "execution_count": 3,
   "id": "356cfc51",
   "metadata": {},
   "outputs": [
    {
     "name": "stderr",
     "output_type": "stream",
     "text": [
      "/usr/lib/python3/dist-packages/scipy/__init__.py:146: UserWarning: A NumPy version >=1.17.3 and <1.25.0 is required for this version of SciPy (detected version 1.26.4\n",
      "  warnings.warn(f\"A NumPy version >={np_minversion} and <{np_maxversion}\"\n"
     ]
    }
   ],
   "source": [
    "from transformers import AutoProcessor"
   ]
  },
  {
   "cell_type": "code",
   "execution_count": 4,
   "id": "05a611b9",
   "metadata": {},
   "outputs": [],
   "source": [
    "processor = AutoProcessor.from_pretrained(\"Qwen/Qwen2-Audio-7B-Instruct\")\n",
    "tokenizer = processor.tokenizer"
   ]
  },
  {
   "cell_type": "code",
   "execution_count": 5,
   "id": "3f73f0fa",
   "metadata": {},
   "outputs": [],
   "source": [
    "from glob import glob\n",
    "import pandas as pd\n",
    "\n",
    "rows = []\n",
    "\n",
    "files = glob('Cantonese-Radio-Description-Instructions/data/*.parquet')\n",
    "for f in files:\n",
    "    df = pd.read_parquet(f).to_dict(orient = 'records')\n",
    "    rows.extend(df)"
   ]
  },
  {
   "cell_type": "code",
   "execution_count": 6,
   "id": "07a8ff8d",
   "metadata": {},
   "outputs": [
    {
     "data": {
      "text/plain": [
       "338813"
      ]
     },
     "execution_count": 6,
     "metadata": {},
     "output_type": "execute_result"
    }
   ],
   "source": [
    "len(rows)"
   ]
  },
  {
   "cell_type": "code",
   "execution_count": 7,
   "id": "1f0fe0c7",
   "metadata": {},
   "outputs": [],
   "source": [
    "import json\n",
    "import pandas as pd\n",
    "\n",
    "def loop(rows):\n",
    "    rows, _ = rows\n",
    "    data = []\n",
    "    for r in tqdm(rows):\n",
    "        f = r['audio_filename']\n",
    "        if not os.path.exists(f):\n",
    "            continue\n",
    "            \n",
    "        try:\n",
    "            conversation = [\n",
    "                {\"role\": \"user\", \"content\": [\n",
    "                    {\"type\": \"audio\", \"audio_url\": \"audio.wav\"},\n",
    "                    {\"type\": \"text\", \"text\": r['question']},\n",
    "                ]},\n",
    "                {\"role\": \"assistant\", \"content\": r['answer']},\n",
    "            ]\n",
    "            text = processor.apply_chat_template(conversation, tokenize=False)\n",
    "        except Exception as e:\n",
    "            continue\n",
    "        \n",
    "\n",
    "        data.append({\n",
    "            'text': text,\n",
    "            'audio': f,\n",
    "        })\n",
    "    return data"
   ]
  },
  {
   "cell_type": "code",
   "execution_count": 8,
   "id": "b667c078",
   "metadata": {
    "scrolled": true
   },
   "outputs": [
    {
     "name": "stderr",
     "output_type": "stream",
     "text": [
      "100%|███████████████████████████████████████████████████████████████████████████████| 11293/11293 [00:02<00:00, 5589.22it/s]\n",
      "100%|███████████████████████████████████████████████████████████████████████████████| 11293/11293 [00:02<00:00, 5570.68it/s]\n",
      "100%|███████████████████████████████████████████████████████████████████████████████| 11293/11293 [00:02<00:00, 5593.59it/s]\n",
      "100%|███████████████████████████████████████████████████████████████████████████████| 11293/11293 [00:02<00:00, 5603.26it/s]\n",
      "100%|███████████████████████████████████████████████████████████████████████████████| 11293/11293 [00:02<00:00, 5619.57it/s]\n",
      "100%|███████████████████████████████████████████████████████████████████████████████| 11293/11293 [00:02<00:00, 5633.29it/s]\n",
      "100%|███████████████████████████████████████████████████████████████████████████████| 11293/11293 [00:01<00:00, 5648.91it/s]\n",
      "100%|███████████████████████████████████████████████████████████████████████████████| 11293/11293 [00:02<00:00, 5378.38it/s]\n",
      "100%|███████████████████████████████████████████████████████████████████████████████| 11293/11293 [00:02<00:00, 5633.65it/s]\n",
      "100%|███████████████████████████████████████████████████████████████████████████████| 11293/11293 [00:02<00:00, 5634.49it/s]\n",
      "100%|███████████████████████████████████████████████████████████████████████████████| 11293/11293 [00:02<00:00, 5634.26it/s]\n",
      "100%|███████████████████████████████████████████████████████████████████████████████| 11293/11293 [00:02<00:00, 5317.62it/s]\n",
      " 19%|██████████████▉                                                                 | 2112/11293 [00:00<00:01, 5455.96it/s]\n",
      "100%|███████████████████████████████████████████████████████████████████████████████| 11293/11293 [00:02<00:00, 5609.47it/s]\n",
      "100%|███████████████████████████████████████████████████████████████████████████████| 11293/11293 [00:01<00:00, 5689.94it/s]\n",
      " 14%|██████████▊                                                                     | 1526/11293 [00:00<00:01, 5215.71it/s]\n",
      "100%|███████████████████████████████████████████████████████████████████████████████| 11293/11293 [00:02<00:00, 5632.67it/s]\n",
      "100%|███████████████████████████████████████████████████████████████████████████████| 11293/11293 [00:02<00:00, 5599.59it/s]\n",
      "100%|███████████████████████████████████████████████████████████████████████████████| 11293/11293 [00:02<00:00, 5558.93it/s]\n",
      "100%|███████████████████████████████████████████████████████████████████████████████| 11293/11293 [00:02<00:00, 5527.96it/s]\n",
      "100%|███████████████████████████████████████████████████████████████████████████████| 11293/11293 [00:01<00:00, 5704.22it/s]\n",
      "100%|███████████████████████████████████████████████████████████████████████████████| 11293/11293 [00:02<00:00, 5000.82it/s]\n",
      "100%|███████████████████████████████████████████████████████████████████████████████| 11293/11293 [00:02<00:00, 5630.92it/s]\n",
      "100%|███████████████████████████████████████████████████████████████████████████████| 11293/11293 [00:01<00:00, 5715.31it/s]\n",
      "100%|█████████████████████████████████████████████████████████████████████████████████████| 23/23 [00:00<00:00, 5066.91it/s]\n",
      "100%|███████████████████████████████████████████████████████████████████████████████| 11293/11293 [00:02<00:00, 5425.99it/s]\n",
      "100%|███████████████████████████████████████████████████████████████████████████████| 11293/11293 [00:02<00:00, 5567.22it/s]\n",
      "100%|███████████████████████████████████████████████████████████████████████████████| 11293/11293 [00:01<00:00, 5700.05it/s]\n",
      "100%|███████████████████████████████████████████████████████████████████████████████| 11293/11293 [00:02<00:00, 5639.28it/s]\n",
      "100%|███████████████████████████████████████████████████████████████████████████████| 11293/11293 [00:02<00:00, 5603.77it/s]\n",
      "100%|███████████████████████████████████████████████████████████████████████████████| 11293/11293 [00:02<00:00, 5557.86it/s]\n"
     ]
    }
   ],
   "source": [
    "processed = multiprocessing(rows, loop, cores = 30)"
   ]
  },
  {
   "cell_type": "code",
   "execution_count": 9,
   "id": "b7e7d3c5",
   "metadata": {},
   "outputs": [
    {
     "data": {
      "text/plain": [
       "338813"
      ]
     },
     "execution_count": 9,
     "metadata": {},
     "output_type": "execute_result"
    }
   ],
   "source": [
    "len(processed)"
   ]
  },
  {
   "cell_type": "code",
   "execution_count": 10,
   "id": "e30cd7eb",
   "metadata": {},
   "outputs": [],
   "source": [
    "with open('prepare-Cantonese-Radio-Description-Instructions.json', 'w') as fopen:\n",
    "    json.dump(processed, fopen)"
   ]
  },
  {
   "cell_type": "code",
   "execution_count": 11,
   "id": "a5971c69",
   "metadata": {},
   "outputs": [
    {
     "data": {
      "text/plain": [
       "{'text': '<|im_start|>system\\nYou are a helpful assistant.<|im_end|>\\n<|im_start|>user\\nAudio 1: <|audio_bos|><|AUDIO|><|audio_eos|>\\nexplain about the audio<|im_end|>\\n<|im_start|>assistant\\nThe speaker provides a rapid, detailed financial update in a manner typical of stock market reporting or financial news broadcasts. Here’s a breakdown:\\n\\n1. **Stock Prices and Movements**:\\n   - **China Ping An (中國平安)**: 81 points, down by 2.5 points.\\n   - **Gold Mining (五號紙金礦業)**: 124 points, down by 9 points.\\n   - **Hong Kong Exchanges and Clearing (港交所)**: 446 points, down by 11 points.\\n   - **JD Group (京東集團)**: 272.2 points, down by 15 points.\\n   - **Kuaishou (快手)**: 224 points, down by 15 points.\\n   - **US Dollar (美元)**: 8 points, down against other currencies.\\n\\n2. **Tone and Style**:\\n   - The delivery is concise and fast-paced, typical of financial news where information needs to be conveyed quickly and efficiently.\\n   - The use of specific numbers and precise movements (e.g., \"跌九號港交所四百四十四個六，跌十一個\") ensures clarity and accuracy, which is crucial in financial reporting.\\n\\n3. **Context**:\\n   - This type of reporting is often heard on financial news channels, stock market updates, or trading floors where real-time information is vital.\\n   - The speaker is likely addressing an audience that is well-versed in financial markets and understands the significance of these movements.\\n\\nOverall, the tone is professional and straightforward, with a focus on delivering accurate and timely financial data. The rapid-fire delivery and detailed information suggest a high level of expertise and a need for immediate action or awareness among the listeners.<|im_end|>\\n',\n",
       " 'audio': 'cantonese-radio-mp3-16k/rthk2_20210511_1300-1500_77.mp3'}"
      ]
     },
     "execution_count": 11,
     "metadata": {},
     "output_type": "execute_result"
    }
   ],
   "source": [
    "processed[0]"
   ]
  }
 ],
 "metadata": {
  "kernelspec": {
   "display_name": "Python 3 (ipykernel)",
   "language": "python",
   "name": "python3"
  },
  "language_info": {
   "codemirror_mode": {
    "name": "ipython",
    "version": 3
   },
   "file_extension": ".py",
   "mimetype": "text/x-python",
   "name": "python",
   "nbconvert_exporter": "python",
   "pygments_lexer": "ipython3",
   "version": "3.10.12"
  }
 },
 "nbformat": 4,
 "nbformat_minor": 5
}
