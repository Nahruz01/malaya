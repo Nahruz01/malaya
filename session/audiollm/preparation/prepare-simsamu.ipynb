{
 "cells": [
  {
   "cell_type": "code",
   "execution_count": 1,
   "id": "a8ee28d4",
   "metadata": {},
   "outputs": [],
   "source": [
    "from multiprocess import Pool\n",
    "import itertools\n",
    "\n",
    "def chunks(l, n):\n",
    "    for i in range(0, len(l), n):\n",
    "        yield (l[i: i + n], i // n)\n",
    "\n",
    "def multiprocessing(strings, function, cores=6, returned=True):\n",
    "    df_split = chunks(strings, len(strings) // cores)\n",
    "    pool = Pool(cores)\n",
    "    pooled = pool.map(function, df_split)\n",
    "    pool.close()\n",
    "    pool.join()\n",
    "\n",
    "    if returned:\n",
    "        return list(itertools.chain(*pooled))"
   ]
  },
  {
   "cell_type": "code",
   "execution_count": 2,
   "id": "2fb31c7c",
   "metadata": {
    "scrolled": false
   },
   "outputs": [
    {
     "name": "stdout",
     "output_type": "stream",
     "text": [
      "DatasetDict({\n",
      "    train: Dataset({\n",
      "        features: ['audio', 'timestamps_start', 'timestamps_end', 'speakers'],\n",
      "        num_rows: 61\n",
      "    })\n",
      "})\n"
     ]
    },
    {
     "name": "stderr",
     "output_type": "stream",
     "text": [
      "/usr/lib/python3/dist-packages/scipy/__init__.py:146: UserWarning: A NumPy version >=1.17.3 and <1.25.0 is required for this version of SciPy (detected version 1.26.4\n",
      "  warnings.warn(f\"A NumPy version >={np_minversion} and <{np_maxversion}\"\n"
     ]
    }
   ],
   "source": [
    "from datasets import load_dataset\n",
    "ds = load_dataset(\"diarizers-community/simsamu\")\n",
    "\n",
    "print(ds)"
   ]
  },
  {
   "cell_type": "code",
   "execution_count": 3,
   "id": "fb88cb25",
   "metadata": {},
   "outputs": [],
   "source": [
    "import string\n",
    "import soundfile as sf\n",
    "import numpy as np\n",
    "from collections import defaultdict\n",
    "\n",
    "def convert_rttm(chunk, filename = 'audio'):\n",
    "    rttm = []\n",
    "    for start, end, speaker in chunk:\n",
    "        duration = end - start\n",
    "        rttm.append(f\"SPEAKER {filename} 1 {start:.4f} {duration:.4f} <NA> <NA> <NA> <NA> {speaker}\")\n",
    "    return '\\n'.join(rttm)\n",
    "\n",
    "def convert_textgrid(segments):\n",
    "    tiers = defaultdict(list)\n",
    "    for start, end, speaker in segments:\n",
    "        tiers[speaker].append((start, end))\n",
    "\n",
    "    min_time = min(start for start, _, _ in segments)\n",
    "    max_time = max(end for _, end, _ in segments)\n",
    "\n",
    "    textgrid = []\n",
    "    textgrid.append(\"File type = \\\"ooTextFile\\\"\")\n",
    "    textgrid.append(\"Object class = \\\"TextGrid\\\"\")\n",
    "    textgrid.append(\"\")\n",
    "    textgrid.append(f\"xmin = {min_time:.2f}\")\n",
    "    textgrid.append(f\"xmax = {max_time:.2f}\")\n",
    "    textgrid.append(\"tiers? <exists>\")\n",
    "    textgrid.append(f\"size = {len(tiers)}\")\n",
    "    textgrid.append(\"item []:\")\n",
    "\n",
    "    for i, (speaker, intervals) in enumerate(tiers.items(), start=1):\n",
    "        textgrid.append(f\"    item [{i}]:\")\n",
    "        textgrid.append(\"        class = \\\"IntervalTier\\\"\")\n",
    "        textgrid.append(f\"        name = \\\"{speaker}\\\"\")\n",
    "        textgrid.append(f\"        xmin = {min_time:.2f}\")\n",
    "        textgrid.append(f\"        xmax = {max_time:.2f}\")\n",
    "        textgrid.append(f\"        intervals: size = {len(intervals)}\")\n",
    "\n",
    "        for j, (start, end) in enumerate(intervals, start=1):\n",
    "            textgrid.append(f\"        intervals [{j}]:\")\n",
    "            textgrid.append(f\"            xmin = {start:.2f}\")\n",
    "            textgrid.append(f\"            xmax = {end:.2f}\")\n",
    "            textgrid.append(f\"            text = \\\"{speaker}\\\"\")\n",
    "            \n",
    "    return '\\n'.join(textgrid)\n",
    "\n",
    "timestamps = [i * 0.02 for i in range(1500 + 1)]"
   ]
  },
  {
   "cell_type": "code",
   "execution_count": 4,
   "id": "92346847",
   "metadata": {},
   "outputs": [
    {
     "name": "stdout",
     "output_type": "stream",
     "text": [
      "mkdir: cannot create directory ‘simsamu’: File exists\r\n"
     ]
    }
   ],
   "source": [
    "!mkdir simsamu"
   ]
  },
  {
   "cell_type": "code",
   "execution_count": 5,
   "id": "3987a18d",
   "metadata": {},
   "outputs": [],
   "source": [
    "from tqdm import tqdm\n",
    "import os\n",
    "\n",
    "def loop(indices):\n",
    "    indices, _ = indices\n",
    "    ds = load_dataset(\"diarizers-community/simsamu\")\n",
    "    data = []\n",
    "    for k, key in tqdm(indices):\n",
    "        row = ds[key][k]\n",
    "        audio = row['audio']['array']\n",
    "        chunks, temp = [], []\n",
    "        argsort = np.argsort(row['timestamps_start'])\n",
    "        timestamps_start = [row['timestamps_start'][i] for i in argsort]\n",
    "        timestamps_end = [row['timestamps_end'][i] for i in argsort]\n",
    "        speakers = [row['speakers'][i] for i in argsort]\n",
    "        start = timestamps_start[0]\n",
    "        max_len = 30\n",
    "        for i in range(len(timestamps_start)):\n",
    "            l = timestamps_end[i] - start\n",
    "            if l >= max_len:\n",
    "                chunks.append(temp)\n",
    "                temp = [[timestamps_start[i], timestamps_end[i], speakers[i]]]\n",
    "                start = timestamps_start[i]\n",
    "                continue\n",
    "            else:\n",
    "                temp.append([timestamps_start[i], timestamps_end[i], speakers[i]])\n",
    "\n",
    "        if len(temp):\n",
    "            chunks.append(temp)\n",
    "\n",
    "        for no, chunk in enumerate(chunks):\n",
    "            speakers = []\n",
    "            for i in range(len(chunk)):\n",
    "                if chunk[i][-1] not in speakers:\n",
    "                    speakers.append(chunk[i][-1])\n",
    "            \n",
    "            try:          \n",
    "                start_time = chunk[0][0]\n",
    "                end_time = max([c[1] for c in chunk])\n",
    "            except Exception as e:\n",
    "                continue\n",
    "                \n",
    "            if round(end_time - start_time, 2) > max_len:\n",
    "                continue\n",
    "            \n",
    "            y = audio[int(16000 * start_time): int(16000 * end_time)]\n",
    "            audio_filename = f'simsamu/{key}-{k}-{no}.mp3'\n",
    "            if not os.path.exists(audio_filename):\n",
    "                sf.write(audio_filename, y, 16000)\n",
    "            \n",
    "            ts = []\n",
    "            for i in range(len(chunk)):\n",
    "                index = speakers.index(chunk[i][-1])\n",
    "                start = min(timestamps, key=lambda t: abs(t - (chunk[i][0] - start_time)))\n",
    "                end = min(timestamps, key=lambda t: abs(t - (chunk[i][1] - start_time)))\n",
    "                speaker_name = f'speaker {string.ascii_uppercase[index]}'\n",
    "                chunk[i][-1] = speaker_name\n",
    "                chunk[i][0] = start\n",
    "                chunk[i][1] = end\n",
    "                t = f\"<|{start:.2f}|> {speaker_name}<|{end:.2f}|>\"\n",
    "                ts.append(t)\n",
    "                \n",
    "            ts = ''.join(ts)\n",
    "            rttm = convert_rttm(chunk)\n",
    "            textgrid = convert_textgrid(chunk)\n",
    "            \n",
    "            data.append({\n",
    "                'question': 'diarize the audio using whisper format',\n",
    "                'answer': ts,\n",
    "                'audio_filename': audio_filename,\n",
    "            })\n",
    "            data.append({\n",
    "                'question': 'diarize the audio using rttm format',\n",
    "                'answer': rttm,\n",
    "                'audio_filename': audio_filename,\n",
    "            })\n",
    "            data.append({\n",
    "                'question': 'diarize the audio using textgrid format',\n",
    "                'answer': textgrid,\n",
    "                'audio_filename': audio_filename,\n",
    "            })\n",
    "            \n",
    "    return data"
   ]
  },
  {
   "cell_type": "code",
   "execution_count": 6,
   "id": "bc725956",
   "metadata": {},
   "outputs": [],
   "source": [
    "indices = list(range(len(ds['train'])))\n",
    "indices = [(i, 'train') for i in indices]"
   ]
  },
  {
   "cell_type": "code",
   "execution_count": 7,
   "id": "7a348240",
   "metadata": {
    "scrolled": false
   },
   "outputs": [
    {
     "name": "stderr",
     "output_type": "stream",
     "text": [
      "100%|█████████████████████████████████████████████████████████████████████████████████████████| 3/3 [00:01<00:00,  2.57it/s]\n",
      "100%|█████████████████████████████████████████████████████████████████████████████████████████| 3/3 [00:01<00:00,  2.24it/s]\n",
      "100%|█████████████████████████████████████████████████████████████████████████████████████████| 3/3 [00:01<00:00,  2.32it/s]\n",
      "100%|█████████████████████████████████████████████████████████████████████████████████████████| 3/3 [00:01<00:00,  2.29it/s]\n",
      "100%|█████████████████████████████████████████████████████████████████████████████████████████| 3/3 [00:01<00:00,  2.05it/s]\n",
      "100%|█████████████████████████████████████████████████████████████████████████████████████████| 3/3 [00:01<00:00,  2.37it/s]\n",
      "100%|█████████████████████████████████████████████████████████████████████████████████████████| 3/3 [00:01<00:00,  2.38it/s]\n",
      "100%|█████████████████████████████████████████████████████████████████████████████████████████| 3/3 [00:01<00:00,  2.40it/s]\n",
      "100%|█████████████████████████████████████████████████████████████████████████████████████████| 3/3 [00:01<00:00,  2.40it/s]\n",
      "100%|█████████████████████████████████████████████████████████████████████████████████████████| 3/3 [00:01<00:00,  2.31it/s]\n",
      "100%|█████████████████████████████████████████████████████████████████████████████████████████| 3/3 [00:01<00:00,  1.98it/s]\n",
      "100%|█████████████████████████████████████████████████████████████████████████████████████████| 3/3 [00:01<00:00,  2.31it/s]\n",
      "100%|█████████████████████████████████████████████████████████████████████████████████████████| 3/3 [00:01<00:00,  2.39it/s]\n",
      "100%|█████████████████████████████████████████████████████████████████████████████████████████| 3/3 [00:01<00:00,  2.50it/s]\n",
      "100%|█████████████████████████████████████████████████████████████████████████████████████████| 3/3 [00:01<00:00,  2.30it/s]\n",
      "100%|█████████████████████████████████████████████████████████████████████████████████████████| 3/3 [00:01<00:00,  2.24it/s]\n",
      "100%|█████████████████████████████████████████████████████████████████████████████████████████| 3/3 [00:01<00:00,  2.37it/s]\n",
      "100%|█████████████████████████████████████████████████████████████████████████████████████████| 1/1 [00:00<00:00,  9.26it/s]\n",
      "100%|█████████████████████████████████████████████████████████████████████████████████████████| 3/3 [00:01<00:00,  2.49it/s]\n",
      "100%|█████████████████████████████████████████████████████████████████████████████████████████| 3/3 [00:01<00:00,  2.35it/s]\n",
      "100%|█████████████████████████████████████████████████████████████████████████████████████████| 3/3 [00:01<00:00,  2.58it/s]\n"
     ]
    }
   ],
   "source": [
    "prepared = multiprocessing(indices, loop, cores = 20)"
   ]
  },
  {
   "cell_type": "code",
   "execution_count": 8,
   "id": "d78101b4",
   "metadata": {},
   "outputs": [
    {
     "data": {
      "text/plain": [
       "1320"
      ]
     },
     "execution_count": 8,
     "metadata": {},
     "output_type": "execute_result"
    }
   ],
   "source": [
    "len(prepared)"
   ]
  },
  {
   "cell_type": "code",
   "execution_count": 9,
   "id": "e1350611",
   "metadata": {},
   "outputs": [
    {
     "data": {
      "text/plain": [
       "{'question': 'diarize the audio using whisper format',\n",
       " 'answer': '<|0.00|> speaker A<|2.10|><|2.10|> speaker B<|3.06|><|3.06|> speaker A<|8.18|><|9.04|> speaker B<|10.24|><|10.32|> speaker A<|12.38|><|13.40|> speaker B<|16.26|><|16.48|> speaker A<|17.86|><|18.82|> speaker B<|19.70|><|19.84|> speaker A<|21.72|><|22.54|> speaker B<|23.80|>',\n",
       " 'audio_filename': 'simsamu/train-0-0.mp3'}"
      ]
     },
     "execution_count": 9,
     "metadata": {},
     "output_type": "execute_result"
    }
   ],
   "source": [
    "prepared[0]"
   ]
  },
  {
   "cell_type": "code",
   "execution_count": 10,
   "id": "8c024481",
   "metadata": {},
   "outputs": [],
   "source": [
    "import pandas as pd\n",
    "\n",
    "pd.DataFrame(prepared).to_parquet('simsamu.parquet')"
   ]
  },
  {
   "cell_type": "code",
   "execution_count": 11,
   "id": "26442aa8",
   "metadata": {},
   "outputs": [
    {
     "name": "stdout",
     "output_type": "stream",
     "text": [
      "Uploading files using Xet Storage..\n",
      "Uploading...: 100%|██████████████████████████| 156k/156k [00:03<00:00, 39.4kB/s]\n",
      "https://huggingface.co/datasets/mesolitica/Speaker-Diarization-Instructions/blob/main//data/simsamu-00000-of-00001.parquet\n"
     ]
    }
   ],
   "source": [
    "!huggingface-cli upload mesolitica/Speaker-Diarization-Instructions \\\n",
    "simsamu.parquet /data/simsamu-00000-of-00001.parquet \\\n",
    "--repo-type=dataset"
   ]
  }
 ],
 "metadata": {
  "kernelspec": {
   "display_name": "Python 3 (ipykernel)",
   "language": "python",
   "name": "python3"
  },
  "language_info": {
   "codemirror_mode": {
    "name": "ipython",
    "version": 3
   },
   "file_extension": ".py",
   "mimetype": "text/x-python",
   "name": "python",
   "nbconvert_exporter": "python",
   "pygments_lexer": "ipython3",
   "version": "3.10.12"
  }
 },
 "nbformat": 4,
 "nbformat_minor": 5
}
