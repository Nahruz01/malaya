{
 "cells": [
  {
   "cell_type": "code",
   "execution_count": 1,
   "id": "f89c8422",
   "metadata": {},
   "outputs": [
    {
     "data": {
      "application/vnd.jupyter.widget-view+json": {
       "model_id": "987b5e9093d4494d8926cd0e059c223d",
       "version_major": 2,
       "version_minor": 0
      },
      "text/plain": [
       "Fetching 2 files:   0%|          | 0/2 [00:00<?, ?it/s]"
      ]
     },
     "metadata": {},
     "output_type": "display_data"
    },
    {
     "data": {
      "text/plain": [
       "'/home/mesolitica/stt/Malaysian-UltraChat-Speech-Multiturn-Instructions'"
      ]
     },
     "execution_count": 1,
     "metadata": {},
     "output_type": "execute_result"
    }
   ],
   "source": [
    "from huggingface_hub import snapshot_download\n",
    "\n",
    "snapshot_download(\n",
    "    repo_id=\"mesolitica/Malaysian-UltraChat-Speech-Multiturn-Instructions\",\n",
    "    repo_type='dataset',\n",
    "    allow_patterns=\"data/*.parquet\",\n",
    "    local_dir=\"./Malaysian-UltraChat-Speech-Multiturn-Instructions\",\n",
    ")"
   ]
  },
  {
   "cell_type": "code",
   "execution_count": 7,
   "id": "0d11bdc1",
   "metadata": {},
   "outputs": [],
   "source": [
    "from glob import glob\n",
    "from tqdm import tqdm\n",
    "import pandas as pd\n",
    "import os\n",
    "import json"
   ]
  },
  {
   "cell_type": "code",
   "execution_count": 12,
   "id": "04d78a85",
   "metadata": {},
   "outputs": [],
   "source": [
    "files = glob('Malaysian-UltraChat-Speech-Multiturn-Instructions/data/*.parquet')"
   ]
  },
  {
   "cell_type": "code",
   "execution_count": 5,
   "id": "7559a015",
   "metadata": {},
   "outputs": [
    {
     "data": {
      "text/html": [
       "<div>\n",
       "<style scoped>\n",
       "    .dataframe tbody tr th:only-of-type {\n",
       "        vertical-align: middle;\n",
       "    }\n",
       "\n",
       "    .dataframe tbody tr th {\n",
       "        vertical-align: top;\n",
       "    }\n",
       "\n",
       "    .dataframe thead th {\n",
       "        text-align: right;\n",
       "    }\n",
       "</style>\n",
       "<table border=\"1\" class=\"dataframe\">\n",
       "  <thead>\n",
       "    <tr style=\"text-align: right;\">\n",
       "      <th></th>\n",
       "      <th>answer</th>\n",
       "      <th>text</th>\n",
       "    </tr>\n",
       "  </thead>\n",
       "  <tbody>\n",
       "    <tr>\n",
       "      <th>0</th>\n",
       "      <td>Malaysia's public transport system is fragment...</td>\n",
       "      <td>Sistem pengangkutan awam Malaysia telah mengha...</td>\n",
       "    </tr>\n",
       "    <tr>\n",
       "      <th>1</th>\n",
       "      <td>Malaysia is vulnerable to climate change due t...</td>\n",
       "      <td>Malaysia is indeed one of the countries most v...</td>\n",
       "    </tr>\n",
       "    <tr>\n",
       "      <th>2</th>\n",
       "      <td>PDRM berusaha keras untuk menangani aktiviti A...</td>\n",
       "      <td>Perkembangan terkini dalam menangani isu aktiv...</td>\n",
       "    </tr>\n",
       "    <tr>\n",
       "      <th>3</th>\n",
       "      <td>Usaha membantu masyarakat Bajau di Sabah terma...</td>\n",
       "      <td>Untuk membantu masyarakat Bajau di Sabah, terd...</td>\n",
       "    </tr>\n",
       "    <tr>\n",
       "      <th>4</th>\n",
       "      <td>Saya adalah AI yang direka untuk membantu dan ...</td>\n",
       "      <td>Itulah betul! Saya adalah program komputer, te...</td>\n",
       "    </tr>\n",
       "  </tbody>\n",
       "</table>\n",
       "</div>"
      ],
      "text/plain": [
       "                                              answer  \\\n",
       "0  Malaysia's public transport system is fragment...   \n",
       "1  Malaysia is vulnerable to climate change due t...   \n",
       "2  PDRM berusaha keras untuk menangani aktiviti A...   \n",
       "3  Usaha membantu masyarakat Bajau di Sabah terma...   \n",
       "4  Saya adalah AI yang direka untuk membantu dan ...   \n",
       "\n",
       "                                                text  \n",
       "0  Sistem pengangkutan awam Malaysia telah mengha...  \n",
       "1  Malaysia is indeed one of the countries most v...  \n",
       "2  Perkembangan terkini dalam menangani isu aktiv...  \n",
       "3  Untuk membantu masyarakat Bajau di Sabah, terd...  \n",
       "4  Itulah betul! Saya adalah program komputer, te...  "
      ]
     },
     "execution_count": 5,
     "metadata": {},
     "output_type": "execute_result"
    }
   ],
   "source": [
    "summary = pd.read_parquet('summarization.parquet')\n",
    "summary.head()"
   ]
  },
  {
   "cell_type": "code",
   "execution_count": 8,
   "id": "a9da3e2c",
   "metadata": {},
   "outputs": [
    {
     "name": "stderr",
     "output_type": "stream",
     "text": [
      "100%|██████████████████████████████████████████████████████████████████████████| 1264550/1264550 [00:15<00:00, 81973.56it/s]\n"
     ]
    }
   ],
   "source": [
    "summaries = {}\n",
    "for i in tqdm(range(len(summary))):\n",
    "    summaries[summary['text'].iloc[i]] = summary['answer'].iloc[i]"
   ]
  },
  {
   "cell_type": "code",
   "execution_count": 9,
   "id": "3cd5b34d",
   "metadata": {},
   "outputs": [],
   "source": [
    "system_prompt = [\n",
    "    'you are chatbot that use for voice assistant, your response always precise and shorter than 300 characters',\n",
    "    'You are a chatbot designed specifically for use as a voice assistant. Your responses must be clear, precise, and always shorter than 300 characters. Prioritize natural, conversational language suitable for speech. Avoid filler, long explanations, or complex phrasing. Do not include unnecessary details unless explicitly asked. If a user’s request is ambiguous, briefly ask for clarification within the character limit. Aim to be helpful, fast, and concise in all replies.',\n",
    "    'You are a helpful voice assistant chatbot. Always reply with short, clear answers under 300 characters. Speak naturally, like in conversation. Keep it direct—no fluff, no long explanations. If you’re unsure, ask a quick clarifying question.',\n",
    "    'Act as a voice assistant chatbot. Keep every response under 300 characters. Be accurate, brief, and easy to understand when spoken aloud. Don’t overexplain or repeat. Ask for clarification only when needed. Prioritize clarity and brevity at all times.',\n",
    "    \"You're a chatbot for voice use. Talk like a helpful person, not a machine. Keep it short—under 300 characters. Focus on what the user needs. Don’t ramble. Be polite, fast, and smart. If the user’s unclear, just ask quickly and keep going.\",\n",
    "    'You are a voice-based assistant designed to be brief and precise. All replies must be under 300 characters. Speak in a friendly, natural tone suitable for spoken output. Avoid technical jargon and long replies. Ask short questions if more info is needed.',\n",
    "]"
   ]
  },
  {
   "cell_type": "code",
   "execution_count": 14,
   "id": "930309d5",
   "metadata": {},
   "outputs": [],
   "source": [
    "rows = []\n",
    "for f in files:\n",
    "    df = pd.read_parquet(f).to_dict(orient = 'records')\n",
    "    rows.extend(df)"
   ]
  },
  {
   "cell_type": "code",
   "execution_count": 25,
   "id": "a25edf71",
   "metadata": {},
   "outputs": [
    {
     "data": {
      "text/plain": [
       "dict_keys(['conversation', 'voice', 'audio_filenames'])"
      ]
     },
     "execution_count": 25,
     "metadata": {},
     "output_type": "execute_result"
    }
   ],
   "source": [
    "rows[0].keys()"
   ]
  },
  {
   "cell_type": "code",
   "execution_count": 28,
   "id": "12323883",
   "metadata": {},
   "outputs": [
    {
     "name": "stderr",
     "output_type": "stream",
     "text": [
      "100%|██████████████████████████████████████████████████████████████████████████████| 97692/97692 [00:03<00:00, 25097.83it/s]\n"
     ]
    }
   ],
   "source": [
    "import random\n",
    "\n",
    "data = []\n",
    "for i in tqdm(range(len(rows))):\n",
    "    conversation = json.loads(rows[i]['conversation'])\n",
    "    messages = [{'role': 'system', 'content': random.choice(system_prompt)}]\n",
    "    for c in conversation:\n",
    "        if c['role'] == 'assistant':\n",
    "            s = c['content']\n",
    "            if len(c['content']) > 300:\n",
    "                if c['content'] in summaries:\n",
    "                    s = summaries[c['content']]\n",
    "                    if s is None:\n",
    "                        s = c['content']\n",
    "                else:\n",
    "                    break\n",
    "            c['content'] = s\n",
    "        messages.append(c)\n",
    "        \n",
    "    if len(messages) % 2 == 0:\n",
    "        continue\n",
    "        \n",
    "    data.append({\n",
    "        'conversation': json.dumps(messages),\n",
    "        'voice': rows[i]['voice'],\n",
    "        'audio_filenames': rows[i]['audio_filenames'],\n",
    "    })"
   ]
  },
  {
   "cell_type": "code",
   "execution_count": 29,
   "id": "eb576f7c",
   "metadata": {},
   "outputs": [
    {
     "data": {
      "text/plain": [
       "95129"
      ]
     },
     "execution_count": 29,
     "metadata": {},
     "output_type": "execute_result"
    }
   ],
   "source": [
    "len(data)"
   ]
  },
  {
   "cell_type": "code",
   "execution_count": 30,
   "id": "7ab92d9b",
   "metadata": {},
   "outputs": [],
   "source": [
    "from datasets import Dataset\n",
    "\n",
    "dataset = Dataset.from_list(data)"
   ]
  },
  {
   "cell_type": "code",
   "execution_count": null,
   "id": "91dc7386",
   "metadata": {
    "scrolled": true
   },
   "outputs": [
    {
     "data": {
      "application/vnd.jupyter.widget-view+json": {
       "model_id": "",
       "version_major": 2,
       "version_minor": 0
      },
      "text/plain": [
       "Uploading the dataset shards:   0%|          | 0/1 [00:00<?, ?it/s]"
      ]
     },
     "metadata": {},
     "output_type": "display_data"
    },
    {
     "data": {
      "application/vnd.jupyter.widget-view+json": {
       "model_id": "",
       "version_major": 2,
       "version_minor": 0
      },
      "text/plain": [
       "Creating parquet from Arrow format:   0%|          | 0/96 [00:00<?, ?ba/s]"
      ]
     },
     "metadata": {},
     "output_type": "display_data"
    }
   ],
   "source": [
    "dataset.push_to_hub('mesolitica/Malaysian-UltraChat-Speech-Multiturn-Instructions', split = 'voice_assistant')"
   ]
  }
 ],
 "metadata": {
  "kernelspec": {
   "display_name": "Python 3 (ipykernel)",
   "language": "python",
   "name": "python3"
  },
  "language_info": {
   "codemirror_mode": {
    "name": "ipython",
    "version": 3
   },
   "file_extension": ".py",
   "mimetype": "text/x-python",
   "name": "python",
   "nbconvert_exporter": "python",
   "pygments_lexer": "ipython3",
   "version": "3.10.12"
  }
 },
 "nbformat": 4,
 "nbformat_minor": 5
}
