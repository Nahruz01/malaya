{
 "cells": [
  {
   "cell_type": "code",
   "execution_count": 1,
   "id": "29713ce9",
   "metadata": {},
   "outputs": [],
   "source": [
    "from transformers import AutoTokenizer\n",
    "\n",
    "tokenizer = AutoTokenizer.from_pretrained('google/gemma-3-27b-it')"
   ]
  },
  {
   "cell_type": "code",
   "execution_count": 2,
   "id": "b62f374c",
   "metadata": {},
   "outputs": [],
   "source": [
    "from streaming import MDSWriter\n",
    "from streaming.base.format.mds.encodings import Encoding, _encodings\n",
    "from streaming import LocalDataset\n",
    "import streaming\n",
    "import numpy as np\n",
    "from tqdm import tqdm\n",
    "from glob import glob\n",
    "import os\n",
    "import json\n",
    "\n",
    "class UInt32(Encoding):\n",
    "    def encode(self, obj) -> bytes:\n",
    "        return obj.tobytes()\n",
    "\n",
    "    def decode(self, data: bytes):\n",
    "        return np.frombuffer(data, np.uint32)\n",
    "\n",
    "_encodings['uint32'] = UInt32\n",
    "\n",
    "columns = {\n",
    "    'input_ids': 'uint32',\n",
    "    'position_ids': 'uint32',\n",
    "    'attention_mask': 'uint32',\n",
    "}\n",
    "hashes = 'sha1', 'xxh64'"
   ]
  },
  {
   "cell_type": "code",
   "execution_count": 3,
   "id": "2daee173",
   "metadata": {},
   "outputs": [],
   "source": [
    "!rm -rf tokenized-4k\n",
    "!mkdir tokenized-4k"
   ]
  },
  {
   "cell_type": "code",
   "execution_count": 4,
   "id": "6e88c119",
   "metadata": {},
   "outputs": [],
   "source": [
    "# !wget https://huggingface.co/datasets/mesolitica/Malaysian-SFT/resolve/main/combine/combined-malaysian-sft.jsonl"
   ]
  },
  {
   "cell_type": "code",
   "execution_count": 5,
   "id": "aad417e7",
   "metadata": {},
   "outputs": [],
   "source": [
    "# !wget https://huggingface.co/datasets/mesolitica/Malaysian-SFT/resolve/main/extra/translation-instructions.json"
   ]
  },
  {
   "cell_type": "code",
   "execution_count": 11,
   "id": "3047e27f",
   "metadata": {},
   "outputs": [
    {
     "data": {
      "text/plain": [
       "1294946"
      ]
     },
     "execution_count": 11,
     "metadata": {},
     "output_type": "execute_result"
    }
   ],
   "source": [
    "combine = []\n",
    "with open('combined-malaysian-sft.jsonl') as fopen:\n",
    "    for l in fopen:\n",
    "        l = json.loads(l)\n",
    "        combine.append(l)\n",
    "\n",
    "len(combine)"
   ]
  },
  {
   "cell_type": "code",
   "execution_count": 12,
   "id": "2f212326",
   "metadata": {},
   "outputs": [
    {
     "data": {
      "text/plain": [
       "1364946"
      ]
     },
     "execution_count": 12,
     "metadata": {},
     "output_type": "execute_result"
    }
   ],
   "source": [
    "with open('translation-instructions.json') as fopen:\n",
    "    translation = json.load(fopen)\n",
    "    \n",
    "for d in translation:\n",
    "    combine.append([\n",
    "        {'role': 'user', 'content': d['input']},\n",
    "        {'role': 'assistant', 'content': d['output']}\n",
    "    ])\n",
    "    \n",
    "len(combine)"
   ]
  },
  {
   "cell_type": "code",
   "execution_count": 13,
   "id": "95c03d1d",
   "metadata": {},
   "outputs": [],
   "source": [
    "row = combine[-1]\n",
    "prompt = tokenizer.apply_chat_template(row, tokenize=False)\n",
    "outputs = tokenizer(prompt, add_special_tokens = False)"
   ]
  },
  {
   "cell_type": "code",
   "execution_count": 14,
   "id": "a4bc7ecc",
   "metadata": {},
   "outputs": [
    {
     "data": {
      "text/plain": [
       "'<bos><start_of_turn>user\\nterjemah ke bahasa melayu `MRI atau Magnetic Resonance Imaging adalah teknik pencitraan medis yang memanfaatkan magnet kuat dan gelombang radio untuk menghasilkan gambaran detail struktur tubuh internal. Metode ini memiliki kemampuan untuk membuat gambar tiga dimensi dengan detail yang lebih akurat dan lebih tajam dari teknik pencitraan medis lainnya seperti x-ray dan CT Scan.\\n\\nPada dasarnya, MRI menggunakan satuan magnetik bernama tesla untuk membentuk gambaran. Alat MRI berisi magnet superkonduktor yang menghasilkan medan magnet kuat yang melalui tubuh pasien. Keberadaan medan magnet ini akan menyebabkan medan magnetik pada proton-proton di dalam tubuh yang mendukung pembentukan gambar. Ketika pasien berada di dalam ruang magnetik, gelombang radio dengan frekuensi tertentu ditembakkan ke tubuh, melalui sebuah koil, yang kemudian akan merangsang proton-proton tersebut sehingga terbentuk sinyal. Informasi ini kemudian diolah oleh komputer yang menghasilkan gambar tubuh pasien.\\n\\nMRI dapat menghasilkan gambar dengan resolusi lebih tinggi dari teknik pencitraan medis lainnya. Hal ini karena gambar yang dihasilkan sangat detail, dapat menunjukkan detail jaringan otot, tulang, organ, dan cairan dalam tubuh. Selain itu, teknik MRI juga bisa digunakan untuk memperoleh informasi tentang fungsi otak, organ dalam, dan jaringan lunak lainnya.\\n\\nNamun, meskipun teknik MRI sangat berguna dalam diagnosis penyakit, perlu diingat bahwa tidak semua orang dapat menjalani prosedur MRI. Pasien dengan pacemaker, logam di dalam tubuh atau alergi kontras, biasanya tidak diperbolehkan untuk menjalani pemeriksaan MRI.\\n\\nMeskipun demikian, MRI tetap menjadi salah satu teknologi pencitraan medis yang paling berguna dan canggih dalam dunia medis saat ini.`<end_of_turn>\\n<start_of_turn>model\\nMRI atau Pengimejan Resonans Magnetik adalah teknik pengimejan perubatan yang memanfaatkan magnet kuat dan gelombang radio untuk menghasilkan gambaran terperinci struktur badan dalaman. Kaedah ini mempunyai keupayaan untuk membuat imej tiga dimensi dengan perincian yang lebih tepat dan tajam daripada teknik pengimejan perubatan lain seperti x-ray dan CT Scan.\\n\\nPada asasnya, MRI menggunakan unit magnetik bernama tesla untuk membentuk imej. Alat MRI mengandungi magnet superkonduktor yang menghasilkan medan magnet kuat yang melalui tubuh pesakit. Kehadiran medan magnet ini akan menyebabkan medan magnet pada proton di dalam badan yang menyokong pembentukan imej. Apabila pesakit berada di dalam ruang magnet, gelombang radio dengan frekuensi tertentu ditembak ke badan, melalui satu koil, yang kemudiannya akan merangsang proton tersebut sehingga terbentuknya isyarat. Maklumat ini kemudian diproses oleh komputer yang menghasilkan gambar badan pesakit.\\n\\nMRI boleh menghasilkan imej dengan resolusi yang lebih tinggi daripada teknik pengimejan perubatan yang lain. Ini kerana imej yang dihasilkan sangat terperinci, dapat menunjukkan butiran tisu otot, tulang, organ, dan cecair dalam badan. Selain itu, teknik MRI juga boleh digunakan untuk mendapatkan maklumat tentang fungsi otak, organ dalaman, dan tisu lembut yang lain.\\n\\nWalau bagaimanapun, walaupun teknik MRI amat berguna dalam diagnosis penyakit, perlu diingat bahawa tidak semua orang boleh menjalani prosedur MRI. Pesakit dengan pacemaker, logam di dalam badan atau alahan kontras biasanya tidak dibenarkan menjalani pemeriksaan MRI.\\n\\nWalaupun begitu, MRI kekal sebagai salah satu teknologi pengimejan perubatan yang paling berguna dan canggih dalam dunia perubatan hari ini.<end_of_turn>\\n'"
      ]
     },
     "execution_count": 14,
     "metadata": {},
     "output_type": "execute_result"
    }
   ],
   "source": [
    "prompt"
   ]
  },
  {
   "cell_type": "code",
   "execution_count": 15,
   "id": "9d0881d3",
   "metadata": {},
   "outputs": [],
   "source": [
    "import gc\n",
    "\n",
    "def collator(batch, batch_position_ids):\n",
    "    input_ids = []\n",
    "    position_ids = []\n",
    "    masks = []\n",
    "    for i in range(len(batch)):\n",
    "        l = len(batch[i])\n",
    "        input_ids.extend(batch[i])\n",
    "        position_ids.extend(batch_position_ids[i])\n",
    "        masks.append(l)\n",
    "    \n",
    "    return {\n",
    "        'input_ids': np.array(input_ids).astype(np.uint32),\n",
    "        'position_ids': np.array(position_ids).astype(np.uint32),\n",
    "        'attention_mask': np.array(masks).astype(np.uint32),\n",
    "    }\n",
    "\n",
    "def slice_and_balance(nested_list, size):\n",
    "    first = []\n",
    "    balance = []\n",
    "    current_size = 0\n",
    "\n",
    "    for sublist in nested_list:\n",
    "        if current_size < size:\n",
    "            remaining_space = size - current_size\n",
    "            if len(sublist) <= remaining_space:\n",
    "                first.append(sublist)\n",
    "                current_size += len(sublist)\n",
    "            else:\n",
    "                first.append(sublist[:remaining_space])\n",
    "                balance.append(sublist[remaining_space:])\n",
    "                current_size = size\n",
    "        else:\n",
    "            balance.append(sublist)\n",
    "    \n",
    "    return first, balance"
   ]
  },
  {
   "cell_type": "code",
   "execution_count": 16,
   "id": "4b8fa435",
   "metadata": {},
   "outputs": [],
   "source": [
    "import time\n",
    "\n",
    "def loop(files, block_size = 4096):\n",
    "    rows, index = files\n",
    "    out_root = f'tokenized-4k/tokenized-{index}'\n",
    "    os.system(f'rm -rf {out_root}')\n",
    "    count = 0\n",
    "    temp = []\n",
    "    position_ids = []\n",
    "    last_block, last_position_block = None, None\n",
    "    with MDSWriter(out=out_root, columns=columns, compression=None, hashes=hashes) as out:\n",
    "        for row in tqdm(rows):\n",
    "            prompt = tokenizer.apply_chat_template(row, tokenize=False)\n",
    "            outputs = tokenizer(prompt, add_special_tokens = False)\n",
    "            temp.append(outputs['input_ids'])\n",
    "            position_ids.append(range(len(outputs['input_ids'])))\n",
    "            count += len(outputs['input_ids'])\n",
    "            while count >= block_size:\n",
    "                block, temp = slice_and_balance(temp, block_size)\n",
    "                block_position, position_ids = slice_and_balance(position_ids, block_size)\n",
    "                count = count - block_size\n",
    "                o = collator(block, block_position)\n",
    "                last_block = block\n",
    "                last_position_block = block_position\n",
    "                out.write(o)\n",
    "                \n",
    "        block, _ = slice_and_balance(last_block, block_size - count)\n",
    "        block_position, _ = slice_and_balance(last_position_block, block_size - count)\n",
    "\n",
    "        block.extend(temp)\n",
    "        block_position.extend(position_ids)\n",
    "\n",
    "        o = collator(block, block_position)\n",
    "        if len(o['input_ids']) == block_size:\n",
    "            out.write(o)\n",
    "            return o"
   ]
  },
  {
   "cell_type": "code",
   "execution_count": 17,
   "id": "bf51c330",
   "metadata": {},
   "outputs": [
    {
     "name": "stderr",
     "output_type": "stream",
     "text": [
      "100%|█████████████████████████████████████████████████████████████████████████████| 1000/1000 [00:00<00:00, 1116.48it/s]\n"
     ]
    },
    {
     "data": {
      "text/plain": [
       "{'input_ids': array([   511,   8986,   1684, ..., 236761,    106,    107], dtype=uint32),\n",
       " 'position_ids': array([248, 249, 250, ..., 287, 288, 289], dtype=uint32),\n",
       " 'attention_mask': array([192, 439, 581, 221, 487, 462, 355,  36, 440, 593, 290],\n",
       "       dtype=uint32)}"
      ]
     },
     "execution_count": 17,
     "metadata": {},
     "output_type": "execute_result"
    }
   ],
   "source": [
    "loop((combine[:1000], 0))"
   ]
  },
  {
   "cell_type": "code",
   "execution_count": 21,
   "id": "6fabb83f",
   "metadata": {},
   "outputs": [
    {
     "name": "stderr",
     "output_type": "stream",
     "text": [
      "huggingface/tokenizers: The current process just got forked, after parallelism has already been used. Disabling parallelism to avoid deadlocks...\n",
      "To disable this warning, you can either:\n",
      "\t- Avoid using `tokenizers` before the fork if possible\n",
      "\t- Explicitly set the environment variable TOKENIZERS_PARALLELISM=(true | false)\n",
      "huggingface/tokenizers: The current process just got forked, after parallelism has already been used. Disabling parallelism to avoid deadlocks...\n",
      "To disable this warning, you can either:\n",
      "\t- Avoid using `tokenizers` before the fork if possible\n",
      "\t- Explicitly set the environment variable TOKENIZERS_PARALLELISM=(true | false)\n",
      "huggingface/tokenizers: The current process just got forked, after parallelism has already been used. Disabling parallelism to avoid deadlocks...\n",
      "To disable this warning, you can either:\n",
      "\t- Avoid using `tokenizers` before the fork if possible\n",
      "\t- Explicitly set the environment variable TOKENIZERS_PARALLELISM=(true | false)\n",
      "huggingface/tokenizers: The current process just got forked, after parallelism has already been used. Disabling parallelism to avoid deadlocks...\n",
      "To disable this warning, you can either:\n",
      "\t- Avoid using `tokenizers` before the fork if possible\n",
      "\t- Explicitly set the environment variable TOKENIZERS_PARALLELISM=(true | false)\n",
      "huggingface/tokenizers: The current process just got forked, after parallelism has already been used. Disabling parallelism to avoid deadlocks...\n",
      "To disable this warning, you can either:\n",
      "\t- Avoid using `tokenizers` before the fork if possible\n",
      "\t- Explicitly set the environment variable TOKENIZERS_PARALLELISM=(true | false)\n",
      "huggingface/tokenizers: The current process just got forked, after parallelism has already been used. Disabling parallelism to avoid deadlocks...\n",
      "To disable this warning, you can either:\n",
      "\t- Avoid using `tokenizers` before the fork if possible\n",
      "\t- Explicitly set the environment variable TOKENIZERS_PARALLELISM=(true | false)\n",
      "huggingface/tokenizers: The current process just got forked, after parallelism has already been used. Disabling parallelism to avoid deadlocks...\n",
      "To disable this warning, you can either:\n",
      "\t- Avoid using `tokenizers` before the fork if possible\n",
      "\t- Explicitly set the environment variable TOKENIZERS_PARALLELISM=(true | false)\n",
      "huggingface/tokenizers: The current process just got forked, after parallelism has already been used. Disabling parallelism to avoid deadlocks...\n",
      "To disable this warning, you can either:\n",
      "\t- Avoid using `tokenizers` before the fork if possible\n",
      "\t- Explicitly set the environment variable TOKENIZERS_PARALLELISM=(true | false)\n",
      "huggingface/tokenizers: The current process just got forked, after parallelism has already been used. Disabling parallelism to avoid deadlocks...\n",
      "To disable this warning, you can either:\n",
      "\t- Avoid using `tokenizers` before the fork if possible\n",
      "\t- Explicitly set the environment variable TOKENIZERS_PARALLELISM=(true | false)\n",
      "huggingface/tokenizers: The current process just got forked, after parallelism has already been used. Disabling parallelism to avoid deadlocks...\n",
      "To disable this warning, you can either:\n",
      "\t- Avoid using `tokenizers` before the fork if possible\n",
      "\t- Explicitly set the environment variable TOKENIZERS_PARALLELISM=(true | false)\n",
      "100%|███████████████████████████████████████████████████████████████████████████| 50000/50000 [00:48<00:00, 1038.56it/s]\n",
      "100%|████████████████████████████████████████████████████████████████████████████| 50000/50000 [00:55<00:00, 899.56it/s]\n",
      "100%|███████████████████████████████████████████████████████████████████████████| 50000/50000 [00:30<00:00, 1615.99it/s]\n",
      "100%|███████████████████████████████████████████████████████████████████████████| 50000/50000 [00:12<00:00, 3962.22it/s]\n",
      "100%|███████████████████████████████████████████████████████████████████████████| 50000/50000 [00:11<00:00, 4187.78it/s]\n",
      "100%|███████████████████████████████████████████████████████████████████████████| 50000/50000 [00:42<00:00, 1169.50it/s]\n",
      "100%|███████████████████████████████████████████████████████████████████████████| 50000/50000 [00:12<00:00, 3872.45it/s]\n",
      "100%|████████████████████████████████████████████████████████████████████████████| 50000/50000 [01:16<00:00, 650.25it/s]\n",
      "100%|████████████████████████████████████████████████████████████████████████████| 50000/50000 [01:26<00:00, 577.95it/s]\n",
      "100%|████████████████████████████████████████████████████████████████████████████| 50000/50000 [01:33<00:00, 532.56it/s]\n",
      "100%|███████████████████████████████████████████████████████████████████████████| 50000/50000 [00:44<00:00, 1119.23it/s]\n",
      "100%|████████████████████████████████████████████████████████████████████████████| 50000/50000 [01:36<00:00, 516.73it/s]\n",
      "100%|████████████████████████████████████████████████████████████████████████████| 50000/50000 [01:39<00:00, 500.70it/s]\n",
      "100%|███████████████████████████████████████████████████████████████████████████| 50000/50000 [00:24<00:00, 2079.32it/s]\n",
      "100%|████████████████████████████████████████████████████████████████████████████| 50000/50000 [01:06<00:00, 750.42it/s]\n",
      "100%|████████████████████████████████████████████████████████████████████████████| 50000/50000 [01:13<00:00, 681.55it/s]\n",
      "100%|████████████████████████████████████████████████████████████████████████████| 50000/50000 [01:08<00:00, 725.69it/s]\n",
      "100%|███████████████████████████████████████████████████████████████████████████| 50000/50000 [00:15<00:00, 3164.95it/s]\n",
      "100%|████████████████████████████████████████████████████████████████████████████| 50000/50000 [02:31<00:00, 329.43it/s]\n",
      "100%|███████████████████████████████████████████████████████████████████████████| 14946/14946 [00:14<00:00, 1018.90it/s]\n",
      "100%|████████████████████████████████████████████████████████████████████████████| 50000/50000 [01:44<00:00, 479.19it/s]\n",
      "100%|████████████████████████████████████████████████████████████████████████████| 50000/50000 [00:59<00:00, 841.45it/s]\n",
      "100%|████████████████████████████████████████████████████████████████████████████| 50000/50000 [01:26<00:00, 576.96it/s]\n",
      "100%|████████████████████████████████████████████████████████████████████████████| 50000/50000 [01:44<00:00, 476.88it/s]\n",
      "100%|████████████████████████████████████████████████████████████████████████████| 50000/50000 [00:57<00:00, 874.59it/s]\n",
      "100%|████████████████████████████████████████████████████████████████████████████| 50000/50000 [01:25<00:00, 581.50it/s]\n",
      "100%|████████████████████████████████████████████████████████████████████████████| 50000/50000 [02:11<00:00, 380.76it/s]\n",
      "100%|████████████████████████████████████████████████████████████████████████████| 50000/50000 [01:54<00:00, 435.89it/s]\n"
     ]
    }
   ],
   "source": [
    "from multiprocess import Pool\n",
    "\n",
    "def chunks(l, n):\n",
    "    for i in range(0, len(l), n):\n",
    "        yield (l[i: i + n], i // n)\n",
    "\n",
    "chunks = chunks(combine, 50000)\n",
    "pool = Pool(10)\n",
    "pooled = pool.map(loop, chunks)\n",
    "pool.close()\n",
    "pool.join()"
   ]
  },
  {
   "cell_type": "code",
   "execution_count": 22,
   "id": "85565e4d",
   "metadata": {},
   "outputs": [
    {
     "data": {
      "text/plain": [
       "['tokenized-4k/tokenized-0',\n",
       " 'tokenized-4k/tokenized-1',\n",
       " 'tokenized-4k/tokenized-2',\n",
       " 'tokenized-4k/tokenized-3',\n",
       " 'tokenized-4k/tokenized-4',\n",
       " 'tokenized-4k/tokenized-5',\n",
       " 'tokenized-4k/tokenized-6',\n",
       " 'tokenized-4k/tokenized-7',\n",
       " 'tokenized-4k/tokenized-8',\n",
       " 'tokenized-4k/tokenized-9',\n",
       " 'tokenized-4k/tokenized-10',\n",
       " 'tokenized-4k/tokenized-11',\n",
       " 'tokenized-4k/tokenized-12',\n",
       " 'tokenized-4k/tokenized-13',\n",
       " 'tokenized-4k/tokenized-14',\n",
       " 'tokenized-4k/tokenized-15',\n",
       " 'tokenized-4k/tokenized-16',\n",
       " 'tokenized-4k/tokenized-17',\n",
       " 'tokenized-4k/tokenized-18',\n",
       " 'tokenized-4k/tokenized-19',\n",
       " 'tokenized-4k/tokenized-20',\n",
       " 'tokenized-4k/tokenized-21',\n",
       " 'tokenized-4k/tokenized-22',\n",
       " 'tokenized-4k/tokenized-23',\n",
       " 'tokenized-4k/tokenized-24',\n",
       " 'tokenized-4k/tokenized-25',\n",
       " 'tokenized-4k/tokenized-26',\n",
       " 'tokenized-4k/tokenized-27']"
      ]
     },
     "execution_count": 22,
     "metadata": {},
     "output_type": "execute_result"
    }
   ],
   "source": [
    "folders = sorted(glob('tokenized-4k/tokenized-*'), key = lambda x: int(x.split('-')[-1]))\n",
    "folders"
   ]
  },
  {
   "cell_type": "code",
   "execution_count": 23,
   "id": "2e7ae483",
   "metadata": {},
   "outputs": [
    {
     "name": "stderr",
     "output_type": "stream",
     "text": [
      "huggingface/tokenizers: The current process just got forked, after parallelism has already been used. Disabling parallelism to avoid deadlocks...\n",
      "To disable this warning, you can either:\n",
      "\t- Avoid using `tokenizers` before the fork if possible\n",
      "\t- Explicitly set the environment variable TOKENIZERS_PARALLELISM=(true | false)\n"
     ]
    }
   ],
   "source": [
    "!rm -rf packing-4k"
   ]
  },
  {
   "cell_type": "code",
   "execution_count": 24,
   "id": "bd3849ac",
   "metadata": {},
   "outputs": [
    {
     "name": "stderr",
     "output_type": "stream",
     "text": [
      "100%|█████████████████████████████████████████████████████████████████████████████| 6638/6638 [00:00<00:00, 9204.33it/s]\n",
      "100%|████████████████████████████████████████████████████████████████████████████| 7547/7547 [00:00<00:00, 10732.75it/s]\n",
      "100%|███████████████████████████████████████████████████████████████████████████| 12706/12706 [00:01<00:00, 8476.39it/s]\n",
      "100%|████████████████████████████████████████████████████████████████████████████| 9820/9820 [00:00<00:00, 10489.08it/s]\n",
      "100%|███████████████████████████████████████████████████████████████████████████| 10538/10538 [00:01<00:00, 8132.38it/s]\n",
      "100%|███████████████████████████████████████████████████████████████████████████| 10011/10011 [00:01<00:00, 9165.90it/s]\n",
      "100%|███████████████████████████████████████████████████████████████████████████| 16963/16963 [00:01<00:00, 9668.74it/s]\n",
      "100%|███████████████████████████████████████████████████████████████████████████| 10483/10483 [00:01<00:00, 9635.42it/s]\n",
      "100%|█████████████████████████████████████████████████████████████████████████████| 4441/4441 [00:00<00:00, 9905.36it/s]\n",
      "100%|█████████████████████████████████████████████████████████████████████████████| 3240/3240 [00:00<00:00, 7898.76it/s]\n",
      "100%|████████████████████████████████████████████████████████████████████████████| 1086/1086 [00:00<00:00, 32731.27it/s]\n",
      "100%|█████████████████████████████████████████████████████████████████████████████| 1030/1030 [00:00<00:00, 5364.32it/s]\n",
      "100%|████████████████████████████████████████████████████████████████████████████| 1152/1152 [00:00<00:00, 31098.51it/s]\n",
      "100%|█████████████████████████████████████████████████████████████████████████████| 5469/5469 [00:00<00:00, 8505.79it/s]\n",
      "100%|█████████████████████████████████████████████████████████████████████████████| 8923/8923 [00:00<00:00, 9968.45it/s]\n",
      "100%|█████████████████████████████████████████████████████████████████████████████| 7774/7774 [00:00<00:00, 9185.01it/s]\n",
      "100%|█████████████████████████████████████████████████████████████████████████████| 7852/7852 [00:00<00:00, 9157.43it/s]\n",
      "100%|███████████████████████████████████████████████████████████████████████████| 12750/12750 [00:01<00:00, 9789.56it/s]\n",
      "100%|███████████████████████████████████████████████████████████████████████████| 12475/12475 [00:01<00:00, 9638.37it/s]\n",
      "100%|███████████████████████████████████████████████████████████████████████████| 10405/10405 [00:01<00:00, 9630.95it/s]\n",
      "100%|█████████████████████████████████████████████████████████████████████████████| 2527/2527 [00:00<00:00, 6558.77it/s]\n",
      "100%|███████████████████████████████████████████████████████████████████████████| 16801/16801 [00:01<00:00, 9706.61it/s]\n",
      "100%|████████████████████████████████████████████████████████████████████████████| 6682/6682 [00:00<00:00, 10173.36it/s]\n",
      "100%|█████████████████████████████████████████████████████████████████████████████| 9666/9666 [00:01<00:00, 9230.45it/s]\n",
      "100%|███████████████████████████████████████████████████████████████████████████| 21082/21082 [00:02<00:00, 9676.36it/s]\n",
      "100%|█████████████████████████████████████████████████████████████████████████████| 7926/7926 [00:00<00:00, 9423.25it/s]\n",
      "100%|█████████████████████████████████████████████████████████████████████████████| 1546/1546 [00:00<00:00, 7817.69it/s]\n",
      "100%|█████████████████████████████████████████████████████████████████████████████| 1580/1580 [00:00<00:00, 7969.89it/s]\n"
     ]
    }
   ],
   "source": [
    "with MDSWriter(out='packing-4k', columns=columns, compression=None, hashes=hashes) as out:\n",
    "    for f in folders:\n",
    "        try:\n",
    "            dataset = LocalDataset(local=f)\n",
    "            for i in tqdm(range(len(dataset))):\n",
    "                out.write(dataset[i])\n",
    "        except Exception as e:\n",
    "            print(e)\n",
    "            pass"
   ]
  },
  {
   "cell_type": "code",
   "execution_count": 27,
   "id": "5a7a76ab",
   "metadata": {},
   "outputs": [
    {
     "data": {
      "text/plain": [
       "0.938446848"
      ]
     },
     "execution_count": 27,
     "metadata": {},
     "output_type": "execute_result"
    }
   ],
   "source": [
    "dataset = LocalDataset('packing-4k')\n",
    "(len(dataset) * 4096) / 1e9"
   ]
  },
  {
   "cell_type": "code",
   "execution_count": 28,
   "id": "9620c99f",
   "metadata": {},
   "outputs": [
    {
     "data": {
      "text/plain": [
       "'test)\\n```\\nSelepas melatih model, kita meramalkan label dari set ujian menggunakan model yang telah dilatih.\\n\\n7. Penilaian prestasi model:\\n```python\\nfrom sklearn.metrics import accuracy_score, precision_score, recall_score, f1_score\\nprint(\"Accuracy:\", accuracy_score(y_test, y_pred))\\nprint(\"Precision:\", precision_score(y_test, y_pred))\\nprint(\"Recall:\", recall_score(y_test, y_pred))\\nprint(\"F1-Score:\", f1_score(y_test, y_pred))\\n```\\nDalam peringkat terakhir ini, kita menilai prestasi model menggunakan beberapa metrik penilaian, seperti ketepatan, ketepatan, penarikan balik, dan F1-Score.\\n\\nSecara keseluruhan, kod di atas akan menghasilkan model yang boleh digunakan untuk mengklasifikasikan sama ada sebuah ayat itu sarkastik atau tidak. Anda boleh menggunakan data sendiri dengan format yang sesuai dan melakukan klasifikasi dengan menggunakan model yang telah dilatih.<end_of_turn>\\n<bos><start_of_turn>user\\n`Sebagai AI, saya dapat membantu dengan proses perancangan algoritma yang spesifik yang menghasilkan rencana belajar yang unik dan personal berdasarkan gaya belajar, jadwal, dan tujuan pengguna. Namun, sebagai AI, saya perlu diprogram dan diarahkan oleh engineer atau programmer yang ahli dalam bidang ini.\\n\\nProses perancangan algoritma yang efektif memerlukan pemahaman yang mendalam tentang gaya belajar seseorang. Ada beberapa jenis gaya belajar, termasuk visual, auditori, kinestetik, reflektif, dan interaktif. Algoritma perlu mempertimbangkan preferensi belajar setiap individu dan dari situ menghasilkan rekomendasi berbeda.\\n\\nSelain mempertimbangkan gaya belajar, algoritma juga perlu menyesuaikan jadwal dan preferensi waktu masing-masing pengguna. Ini termasuk faktor-faktor seperti waktu luang, waktu kerja, atau waktu di tempat lain.\\n\\nTerakhir, algoritma perlu mempertimbangkan tujuan belajar pengguna. Tujuan mungkin berbeda-beda, seperti memperbaiki kemampuan bahasa Inggris, meningkatkan kemampuan programing, atau meningkatkan keterampilan berbicara di depan umum. Algoritma harus dilengkapi dengan filter yang dapat membuat rekomendasi yang jelas dan spesifik berdasarkan tujuan akhir pengguna.\\n\\nSecara keseluruhan, perancangan algoritma yang hebat membutuhkan pemahaman mendalam tentang preferensi dan tujuan setiap pengguna. Dengan algoritma yang tepat, saya yakin kita bisa membantu pengguna untuk belajar dengan lebih efektif dan efisien.` terjemah ke malay<end_of_turn>\\n<start_of_turn>model\\nSebagai AI, saya boleh membantu dengan proses perancangan algoritma khusus yang menghasilkan rancangan pembelajaran unik dan peribadi berdasarkan gaya pembelajaran, jadual dan matlamat pengguna. Walau bagaimanapun, sebagai AI, saya perlu diprogramkan dan diarahkan oleh jurutera atau pengaturcara yang pakar dalam bidang ini.\\n\\nProses merancang algoritma yang berkesan memerlukan pemahaman mendalam tentang gaya pembelajaran seseorang. Terdapat beberapa jenis gaya pembelajaran, termasuk visual, auditori, kinestetik, reflektif dan interaktif. Algoritma perlu mempertimbangkan keutamaan belajar setiap individu dan dari situ menghasilkan cadangan yang berbeza.\\n\\nSelain mempertimbangkan gaya pembelajaran, algoritma juga perlu menyesuaikan jadual dan masa kegemaran setiap pengguna. Ini termasuk faktor seperti masa lapang, waktu kerja atau masa di tempat lain.\\n\\nAkhir sekali, algoritma perlu mempertimbangkan tujuan pembelajaran pengguna. Tujuan mungkin berbeza-beza, seperti meningkatkan kemahiran bahasa Inggeris, meningkatkan keupayaan pengaturcaraan, atau meningkatkan kemahiran bercakap di khalayak ramai. Algoritma mesti dilengkapi dengan penapis yang boleh membuat cadangan yang jelas dan spesifik berdasarkan tujuan akhir pengguna.\\n\\nSecara keseluruhan, reka bentuk algoritma yang hebat memerlukan pemahaman mendalam tentang keutamaan dan matlamat setiap pengguna. Dengan algoritma yang tepat, saya yakin kita boleh membantu pengguna untuk belajar dengan lebih efektif dan cekap.<end_of_turn>\\n<bos><start_of_turn>user\\n`Dalam menambahkan persyaratan bahwa setiap karakter harus memiliki keterbatasan fisik yang memengaruhi kemampuannya untuk berkontribusi terhadap kesuksesan atau kegagalan kelompok dalam suatu cerita, Anda perlu mempertimbangkan beberapa hal yang dapat membantu menjadikan karakter tersebut lebih dihargai dan realistis.\\n\\nPertimbangan pertama adalah memikirkan keterbatasan apa yang dapat membuat karakter terlihat lebih manusiawi dan juga membantu untuk membuat cerita lebih menarik dan dramatis. Keterbatasan ini haruslah berkaitan dengan kemampuan fisik dari karakter tersebut dan haruslah diperkaya dengan detail yang cukup. Keterbatasan tersebut dapat berupa kecacatan fisik, gangguan kesehatan, atau keterampilan fisik yang terbatas.\\n\\nContohnya, karakter yang memiliki gangguan penglihatan seperti buta dapat memengaruhi kemampuannya untuk berkontribusi dalam kelompok. Namun, keterbatasan tersebut dapat diintegrasikan dengan kreatif ke dalam perspektif karakter, seperti melalui teknik penyuntingan audio atau penggunaan perangkat bantu seperti kacamata atau stik untuk membantu navigasi.\\n\\nSelanjutnya, Anda perlu memilih keterbatasan yang memengaruhi kehidupan karakter secara signifikan, tetapi juga dapat menjadi keuntungan dalam cerita. Misalnya, karakter yang memiliki keterampilan fisik yang terbatas dalam hal kecepatan dapat menjadi keunggulan saat beroperasi dalam situasi yang membutuhkan keterampilan yang lebih lambat dan perhitungan yang lebih teliti.\\n\\nMenambahkan keterbatasan fisik ke dalam karakter juga akan membantu untuk mengeksplorasi karakter secara lebih mendalam, memberikan detail tambahan tentang latar belakang karakter dan pengalaman hidup yang memengaruhi karakter tersebut. Ini akan membantu pembaca atau penonton lebih mengetahui siapa karakter tersebut dan memberikan kesempatan untuk menerapkan empati dan simpati terhadap karakter tersebut.\\n\\nTerakhir, keterbatasan fisik pada karakter haruslah diintegrasikan dengan baik ke dalam cerita dan harus diperlihatkan bagaimana karakter tersebut dapat mengatasi kekurangan tersebut untuk membuktikan dirinya sebagai anggota yang berharga dalam kelompok. Dengan begitu, akan memberikan pesan positif bagi pembaca atau penonton tentang kekuatan yang dimiliki seseorang untuk mengatasi keterbatasan fisik mereka demi mencapai keberhasilan.\\n\\nDalam kesimpulannya, menambahkan persyaratan bahwa setiap karakter harus memiliki keterbatasan fisik yang memengaruhi kemampuannya untuk berkontribusi terhadap kesuksesan atau kegagalan kelompok dalam sebuah cerita memerlukan pemikiran dan kreativitas untuk membentuk karakter yang realistis, kaya akan detail, dan memberikan pesan yang positif tentang kekuatan manusia dalam mengatasi keterbatasan mereka.` terjemah ke malay<end_of_turn>\\n<start_of_turn>model\\nDalam menambah keperluan bahawa setiap watak mesti mempunyai batasan fizikal yang mempengaruhi keupayaannya untuk menyumbang kepada kejayaan atau kegagalan kumpulan dalam sesebuah cerita, anda perlu mempertimbangkan beberapa perkara yang boleh membantu menjadikan watak itu lebih dihargai dan realistik.\\n\\nPertimbangan pertama adalah memikirkan apakah batasan-batasan yang dapat membuat watak kelihatan lebih manusiawi dan juga membantu untuk menjadikan cerita lebih menarik dan dramatik. Sempadan ini mestilah berkaitan dengan kebolehan fizikal watak tersebut dan hendaklah diperkaya dengan perincian yang cukup. Sempadan ini boleh berupa kecacatan fizikal, gangguan kesihatan, atau kemahiran fizikal yang terhad.\\n\\nSebagai contoh, watak yang mengalami masalah penglihatan seperti buta boleh menjejaskan kemampuannya untuk menyumbang kepada kumpulan. Walau bagaimanapun, sekatan-sekatan ini boleh diintegrasikan secara kreatif ke dalam perspektif watak, seperti melalui teknik penyuntingan audio atau penggunaan alat bantuan seperti cermin mata atau kayu untuk membantu navigasi.\\n\\nSeterusnya, anda perlu memilih had yang mempengaruhi kehidupan watak secara signifikan, tetapi juga boleh menjadi kelebihan dalam cerita. Sebagai contoh, watak yang mempunyai kemahiran fizikal yang terhad dari segi kelajuan boleh menjadi kelebihan apabila beroperasi dalam situasi yang memerlukan kemahiran yang lebih perlahan dan pengiraan yang lebih teliti.\\n\\nMenambah had fizikal pada watak juga akan membantu meneroka watak dengan lebih mendalam, memberikan butiran tambahan tentang latar belakang watak dan pengalaman hidup yang mempengaruhi watak tersebut. Ini akan membantu pembaca atau penonton mengetahui lebih lanjut siapa watak tersebut dan memberi peluang untuk menerapkan empati dan simpati terhadap watak tersebut.\\n\\nAkhir sekali, had fizikal pada watak harus diintegrasikan dengan baik ke dalam cerita dan harus ditunjukkan bagaimana watak tersebut mampu mengatasi kekurangan ini untuk membuktikan dirinya sebagai ahli yang berharga dalam kumpulan. Dengan cara ini, ia akan memberikan mesej positif kepada pembaca atau penonton tentang kekuatan seseorang untuk mengatasi batasan fizikal mereka demi mencapai kejayaan.\\n\\nKesimpulannya, menambah syarat bahawa setiap watak mesti mempunyai batasan fizikal yang mempengaruhi keupayaannya untuk menyumbang kepada kejayaan atau kegagalan kumpulan dalam sebuah cerita memerlukan pemikiran dan kreativiti untuk membentuk watak yang realistik, kaya dengan perincian, dan memberikan mesej positif tentang kuasa manusia dalam mengatasi batasan mereka.<end_of_turn>\\n<bos><start_of_turn>user\\nterjemah ke bahasa melayu `Kalimat tersebut merupakan tipe jawaban yang sesuai dengan konteks masalah fisika. \\n\\nPenjelasan tentang konsep matematika di balik kalimat tersebut adalah sebagai berikut:\\n\\nGaya (F) dapat didefinisikan sebagai besarnya tekanan atau tarikan yang diberikan pada sebuah objek untuk mengubah atau mempertahankan keadaan geraknya. Gaya merupakan salah satu vektor dalam fisika, sehingga memiliki arah dan besaran.\\n\\nPersamaan matematika yang merepresentasikan hal tersebut adalah:\\n\\nF = m*a\\n\\ndi mana F adalah gaya yang diberikan pada sebuah objek, m adalah massa objek tersebut, dan a adalah percepatan yang dihasilkan oleh gaya tersebut.\\n\\nDalam kalimat tersebut, massa objek yang diberikan adalah 5 kg, serta percepatan yang dihasilkan adalah 1 m/s^2. Oleh karena itu, gaya yang dibutuhkan untuk menggerakkan massa 5 kg dengan percepatan 1 m/s^2 dapat dihitung menggunakan persamaan di atas, yaitu:\\n\\nF = m*a = 5 kg * 1 m/s^2 = 5 N\\n\\nSehingga, dapat disimpulkan bahwa jawaban dari kalimat tersebut adalah 5 Newton (N).`<end_of_turn>\\n<start_of_turn>model\\nAyat tersebut merupakan jenis jawapan yang sesuai dengan konteks masalah fizik.\\n\\nPenjelasan konsep matematik di sebalik ayat adalah seperti berikut:\\n\\nGaya (F) boleh ditakrifkan sebagai kuasa atau tarikan yang diberikan kepada objek untuk mengubah atau mengekalkan keadaan pergerakannya. Gaya ialah salah satu vektor dalam fizik, oleh itu ia mempunyai arah dan magnitud.\\n\\nPersamaan matematik yang mewakili perkara ini ialah:\\n\\nF = m*a\\n\\ndi mana F ialah daya yang diberikan kepada suatu objek, m ialah jisim objek tersebut, dan a ialah pecutan yang dihasilkan oleh daya tersebut.\\n\\nDalam ayat tersebut, jisim objek yang diberikan ialah 5 kg, serta pecutan yang terhasil ialah 1 m/s^2. Oleh itu, daya yang diperlukan untuk menggerakkan jisim 5 kg dengan pecutan 1 m/s^2 boleh dikira menggunakan persamaan di atas, iaitu:\\n\\nF = m*a = 5 kg * 1 m/s^2 = 5 N\\n\\nOleh itu, dapat disimpulkan bahawa jawapan bagi ayat tersebut ialah 5 Newton (N).<end_of_turn>\\n<bos><start_of_turn>user\\n`Dalam persamaan yang diberikan, waterNeeded adalah jumlah air yang dibutuhkan dalam mililiter. Namun, berat zat padat dalam persamaan ini dinyatakan dalam pound. Oleh karena itu, pertama-tama kita harus mengonversi berat zat padat ke kilogram, karena seringkali pengukuran air dalam mililiter terkait dengan pengukuran massa dalam kilogram.\\n\\nUntuk mengonversi pound menjadi kilogram, kita dapat menggunakan rumus berikut:\\n1 pound = 0,453592 kilogram\\n\\nDengan demikian, berat zat padat dalam kilogram adalah sebagai berikut:\\n6 pound x 0,453592 kilogram/pound = 2,721552 kilogram\\n\\nSelanjutnya, kita dapat menggunakan persamaan yang diberikan untuk menghitung jumlah air yang dibutuhkan:\\nwaterNeeded = (beratDalamPound * 0,5) + 5\\n= (2,721552 kg * 0,5) + 5\\n= 6,360776 ml\\n\\nJadi, jawaban yang benar adalah 6.361 ml (dibulatkan ke bilangan bulat terdekat). Ingat untuk memasukkan jawaban dalam mililiter, bukan liter atau ons atau satuan lainnya.` terjemah ke malay<end_of_turn>\\n<start_of_turn>model\\nDalam persamaan yang diberikan, waterNeeded ialah jumlah air yang diperlukan dalam mililiter. Walau bagaimanapun, berat pepejal dalam persamaan ini dinyatakan dalam paun. Oleh itu, pertama sekali kita perlu menukar berat pepejal kepada kilogram, kerana selalunya pengukuran air dalam mililiter adalah berkaitan dengan pengukuran jisim dalam kilogram.\\n\\nUntuk menukarkan pound menjadi kilogram, kita boleh menggunakan formula berikut:\\n1 pound = 0.453592 kilogram\\n\\nDengan demikian, berat pepejal dalam kilogram adalah seperti berikut:\\n6 pound x 0.453592 kilogram/pound = 2.721552 kilogram\\n\\nSeterusnya, kita boleh menggunakan persamaan yang diberikan untuk mengira jumlah air yang diperlukan:\\nwaterNeeded = (beratDalamPound * 0.5) + 5\\n= (2.721552 kg * 0.5) + 5\\n= 6.360776 ml\\n\\nJadi, jawapan yang betul ialah 6.361 ml (dibulatkan ke nombor bulat terdekat). Ingat masukkan jawapan dalam mililiter, bukan liter atau ons atau unit lain.<end_of_turn>\\n<bos><start_of_turn>user\\nterjemah ke bahasa melayu `Terdapat 2 masalah pada kode Python tersebut.\\n\\nPertama, baris kedua mengimport pustaka \\'pubchempy\\', namun terdapat kesalahan ejaan pada kalimat tersebut. Jadi, perbaikan yang dapat dilakukan adalah mengganti kata \\'impor\\' dengan \\'import\\'. Oleh karena itu, baris kedua dapat diperbarui menjadi seperti ini:\\n\\nimport pubchempy as pcp\\n\\nKedua, pada baris keempat, terdapat sebuah kesalahan dalam penggunaan fungsi \\'get_compounds\\'. Pada argumen pertama, seharusnya diisi dengan \\'name\\' (nama senyawa), bukan \\'formula\\' (rumus senyawa). Oleh karena itu, baris keempat dapat diperbarui menjadi seperti ini:\\n\\ncompound = pcp.get_compounds(name=formula)[0]\\n\\nSetelah diperbarui, kode Python akan menjadi seperti ini:\\n\\nimport pubchempy as pcp\\n\\ndef get_compound_name(formula):\\n    compound = pcp.get_compounds(name=formula)[0]\\n    name = compound.iupac_name\\n    return name\\n\\ncompound_name = get_compound_name(\\'C6H12O6\\')\\nprint(compound_name)\\n\\nDengan perubahan tersebut, kode Python sekarang berfungsi dengan baik dan akan memberikan output \"D-glucose\", yaitu nama senyawa untuk rumus C6H12O6.`<end_of_turn>\\n<start_of_turn>model\\nTerdapat 2 masalah dalam kod Python tersebut.\\n\\nPertama, baris kedua mengimport pustaka \\'pubchempy\\', tetapi terdapat kesilapan ejaan pada ayat tersebut. Jadi, penambahbaikan yang boleh dilakukan ialah menggantikan perkataan \\'impor\\' dengan \\'import\\'. Oleh itu, baris kedua boleh dikemas kini seperti ini:\\n\\nimport pubchempy as pcp\\n\\nKedua, pada baris keempat, terdapat ralat dalam penggunaan fungsi \\'get_compounds\\'. Pada argumen pertama, ia sepatutnya diisi dengan \\'name\\' (nama sebatian), bukan \\'formula\\' (rumus sebatian). Oleh itu, baris keempat boleh dikemas kini seperti ini:\\n\\ncompound = pcp.get_compounds(name=formula)[0]\\n\\nSetelah dikemas kini, kod Python akan menjadi seperti ini:\\n\\nimport pubchempy as pcp\\n\\ndef get_compound_name(formula):\\n    compound = pcp.get_compounds(name=formula)[0]\\n    name = compound.iupac_name\\n    return name\\n\\ncompound_name = get_compound_name(\\'C6H12O6\\')\\nprint(compound_name)\\n\\nDengan perubahan ini, kod Python sekarang berfungsi dengan baik dan akan memberikan output \"D-glucose\", iaitu nama sebatian untuk formula C6H12O6.<end_of_turn>\\n<bos><start_of_turn>user\\n`Untuk menemukan rangkaian 5 bilangan bulat yang jika dijumlahkan bernilai 100, di mana setiap bilangan bulat adalah kelipatan dari bilangan prima dari set berikut: 2, 3, 5, 7, 11, dan 13, Anda bisa menggunakan database SQL dan menjalankan query berikut:\\n\\n```\\nSELECT *\\nFROM (\\n  SELECT a.n * 2 AS p2, b.n * 3 AS p3, c.n * 5 AS p5, d.n * 7 AS p7, e.n * 11 AS p11, f.n * 13 AS p13\\n  FROM numbers a, numbers b, numbers c, numbers d, numbers e, numbers f\\n  WHERE a.n between 1 and 50\\n    AND b.n between 1 and 33\\n    AND c.n between 1 and 20\\n    AND d.n between 1 and 14\\n    AND e.n between 1 and 9\\n    AND f.n between 1 and 7\\n) primes\\nWHERE p2 + p3 + p5 + p7 + p11 = 100;\\n```\\n\\nQuery di atas akan menghasilkan semua kombinasi bilangan kelipatan dari 2, 3, 5, 7, 11, dan 13 yang nilainya kurang dari atau sama dengan 100 (dengan menggunakan batasan nilai n pada setiap faktor prima). Kemudian, query akan memilih semua rangkaian kelipatan bilangan prima yang jika dijumlahkan akan menghasilkan 100.\\n\\nHarap dicatat bahwa query ini didasarkan pada tabel \"numbers\" yang harus ada di database Anda, dan tabel ini harus berisi setidaknya satu kolom \"n\" dengan nilai-nilai 1 hingga 100. Jika tabel ini belum ada di database Anda, maka query tidak akan berjalan dengan benar dan perlu dibuat terlebih dahulu.` terjemah ke malay<end_of_turn>\\n<start_of_turn>model\\nUntuk mencari rangkaian 5 integer yang jika ditambah bernilai 100, di mana setiap integer adalah gandaan bagi nombor perdana dari set berikut: 2, 3, 5, 7, 11, dan 13, anda boleh menggunakan pangkalan data SQL dan menjalankan pertanyaan berikut:\\n\\n```\\nSELECT *\\nFROM (\\n  SELECT a.n * 2 AS p2, b.n * 3 AS p3, c.n * 5 AS p5, d.n * 7 AS p7, e.n * 11 AS p11, f.n * 13 AS p13\\n  FROM numbers a, numbers b, numbers c, numbers d, numbers e, numbers f\\n  WHERE a.n between 1 and 50\\n    AND b.n between 1 and 33\\n    AND c.n between 1 and 20\\n    AND d.n between 1 and 14\\n    AND e.n between 1 and 9\\n    AND f.n between 1 and 7\\n) primes\\nWHERE p2 + p3 + p5 + p7 + p11 = 100;\\n```\\n\\nPertanyaan di atas akan menghasilkan semua kombinasi nombor gandaan daripada 2, 3, 5, 7, 11, dan 13'"
      ]
     },
     "execution_count": 28,
     "metadata": {},
     "output_type": "execute_result"
    }
   ],
   "source": [
    "tokenizer.decode(dataset[-3]['input_ids'])"
   ]
  },
  {
   "cell_type": "code",
   "execution_count": 29,
   "id": "2179b3f4",
   "metadata": {},
   "outputs": [],
   "source": [
    "from transformers import AutoModelForCausalLM"
   ]
  },
  {
   "cell_type": "code",
   "execution_count": null,
   "id": "db88b2e0",
   "metadata": {},
   "outputs": [],
   "source": [
    "model = AutoModelForCausalLM.from_pretrained('')"
   ]
  }
 ],
 "metadata": {
  "kernelspec": {
   "display_name": "Python 3 (ipykernel)",
   "language": "python",
   "name": "python3"
  },
  "language_info": {
   "codemirror_mode": {
    "name": "ipython",
    "version": 3
   },
   "file_extension": ".py",
   "mimetype": "text/x-python",
   "name": "python",
   "nbconvert_exporter": "python",
   "pygments_lexer": "ipython3",
   "version": "3.10.12"
  }
 },
 "nbformat": 4,
 "nbformat_minor": 5
}
